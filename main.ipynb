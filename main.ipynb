{
 "cells": [
  {
   "cell_type": "code",
   "execution_count": 1,
   "id": "a1f66da32b3c4cef",
   "metadata": {
    "collapsed": false,
    "ExecuteTime": {
     "end_time": "2024-01-02T21:12:24.506346Z",
     "start_time": "2024-01-02T21:12:24.418241Z"
    }
   },
   "outputs": [],
   "source": [
    "# Libraries\n",
    "import pandas as pd\n",
    "from sklearn.preprocessing import StandardScaler\n",
    "import matplotlib.pyplot as plt\n",
    "import seaborn as sns"
   ]
  },
  {
   "cell_type": "code",
   "execution_count": 2,
   "outputs": [],
   "source": [
    "# Data collection\n",
    "dataset = pd.read_csv(\"data/board_games.csv\")"
   ],
   "metadata": {
    "collapsed": false,
    "ExecuteTime": {
     "end_time": "2024-01-02T21:12:24.622394Z",
     "start_time": "2024-01-02T21:12:24.485307Z"
    }
   },
   "id": "d0014e2a124c7d7c"
  },
  {
   "cell_type": "code",
   "execution_count": 3,
   "id": "f3f4f9b608325d4",
   "metadata": {
    "ExecuteTime": {
     "end_time": "2024-01-02T21:12:24.637343Z",
     "start_time": "2024-01-02T21:12:24.625465Z"
    }
   },
   "outputs": [
    {
     "data": {
      "text/plain": "   game_id                                        description  \\\n0        1  Die Macher is a game about seven sequential po...   \n1        2  Dragonmaster is a trick-taking card game based...   \n2        3  Part of the Knizia tile-laying trilogy, Samura...   \n3        4  When you see the triangular box and the luxuri...   \n4        5  In Acquire, each player strategically invests ...   \n\n                                          image  max_players  max_playtime  \\\n0   //cf.geekdo-images.com/images/pic159509.jpg            5           240   \n1   //cf.geekdo-images.com/images/pic184174.jpg            4            30   \n2  //cf.geekdo-images.com/images/pic3211873.jpg            4            60   \n3   //cf.geekdo-images.com/images/pic285299.jpg            4            60   \n4   //cf.geekdo-images.com/images/pic342163.jpg            6            90   \n\n   min_age  min_players  min_playtime            name  playing_time  ...  \\\n0       14            3           240      Die Macher           240  ...   \n1       12            3            30    Dragonmaster            30  ...   \n2       10            2            30         Samurai            60  ...   \n3       12            2            60  Tal der Könige            60  ...   \n4       12            3            90         Acquire            90  ...   \n\n                        artist                        category compilation  \\\n0          Marcus Gschwendtner  Economic,Negotiation,Political         NaN   \n1                   Bob Pepper               Card Game,Fantasy         NaN   \n2              Franz Vohwinkel      Abstract Strategy,Medieval         NaN   \n3                          NaN                         Ancient         NaN   \n4  Scott Okumura,Peter Whitley                        Economic         NaN   \n\n                designer expansion  \\\n0     Karl-Heinz Schmiel       NaN   \n1  G. W. \"Jerry\" D'Arcey       NaN   \n2          Reiner Knizia       NaN   \n3      Christian Beierer       NaN   \n4            Sid Sackson       NaN   \n\n                                              family  \\\n0         Country: Germany,Valley Games Classic Line   \n1                                   Animals: Dragons   \n2  Asian Theme,Country: Japan,Knizia tile-laying ...   \n3             Country: Egypt,Promotional Board Games   \n4                                3M Bookshelf Series   \n\n                                            mechanic  \\\n0  Area Control / Area Influence,Auction/Bidding,...   \n1                                       Trick-taking   \n2  Area Control / Area Influence,Hand Management,...   \n3  Action Point Allowance System,Area Control / A...   \n4       Hand Management,Stock Holding,Tile Placement   \n\n                                           publisher average_rating  \\\n0  Hans im Glück Verlags-GmbH,Moskito Spiele,Vall...        7.66508   \n1                           E.S. Lowe,Milton Bradley        6.60815   \n2  999 Games,ABACUSSPIELE,Astrel Games,Ceilikan J...        7.44119   \n3                                             KOSMOS        6.60675   \n4  3M,Avalon Hill,Avalon Hill (Hasbro),Dujardin,G...        7.35830   \n\n  users_rated  \n0        4498  \n1         478  \n2       12019  \n3         314  \n4       15195  \n\n[5 rows x 22 columns]",
      "text/html": "<div>\n<style scoped>\n    .dataframe tbody tr th:only-of-type {\n        vertical-align: middle;\n    }\n\n    .dataframe tbody tr th {\n        vertical-align: top;\n    }\n\n    .dataframe thead th {\n        text-align: right;\n    }\n</style>\n<table border=\"1\" class=\"dataframe\">\n  <thead>\n    <tr style=\"text-align: right;\">\n      <th></th>\n      <th>game_id</th>\n      <th>description</th>\n      <th>image</th>\n      <th>max_players</th>\n      <th>max_playtime</th>\n      <th>min_age</th>\n      <th>min_players</th>\n      <th>min_playtime</th>\n      <th>name</th>\n      <th>playing_time</th>\n      <th>...</th>\n      <th>artist</th>\n      <th>category</th>\n      <th>compilation</th>\n      <th>designer</th>\n      <th>expansion</th>\n      <th>family</th>\n      <th>mechanic</th>\n      <th>publisher</th>\n      <th>average_rating</th>\n      <th>users_rated</th>\n    </tr>\n  </thead>\n  <tbody>\n    <tr>\n      <th>0</th>\n      <td>1</td>\n      <td>Die Macher is a game about seven sequential po...</td>\n      <td>//cf.geekdo-images.com/images/pic159509.jpg</td>\n      <td>5</td>\n      <td>240</td>\n      <td>14</td>\n      <td>3</td>\n      <td>240</td>\n      <td>Die Macher</td>\n      <td>240</td>\n      <td>...</td>\n      <td>Marcus Gschwendtner</td>\n      <td>Economic,Negotiation,Political</td>\n      <td>NaN</td>\n      <td>Karl-Heinz Schmiel</td>\n      <td>NaN</td>\n      <td>Country: Germany,Valley Games Classic Line</td>\n      <td>Area Control / Area Influence,Auction/Bidding,...</td>\n      <td>Hans im Glück Verlags-GmbH,Moskito Spiele,Vall...</td>\n      <td>7.66508</td>\n      <td>4498</td>\n    </tr>\n    <tr>\n      <th>1</th>\n      <td>2</td>\n      <td>Dragonmaster is a trick-taking card game based...</td>\n      <td>//cf.geekdo-images.com/images/pic184174.jpg</td>\n      <td>4</td>\n      <td>30</td>\n      <td>12</td>\n      <td>3</td>\n      <td>30</td>\n      <td>Dragonmaster</td>\n      <td>30</td>\n      <td>...</td>\n      <td>Bob Pepper</td>\n      <td>Card Game,Fantasy</td>\n      <td>NaN</td>\n      <td>G. W. \"Jerry\" D'Arcey</td>\n      <td>NaN</td>\n      <td>Animals: Dragons</td>\n      <td>Trick-taking</td>\n      <td>E.S. Lowe,Milton Bradley</td>\n      <td>6.60815</td>\n      <td>478</td>\n    </tr>\n    <tr>\n      <th>2</th>\n      <td>3</td>\n      <td>Part of the Knizia tile-laying trilogy, Samura...</td>\n      <td>//cf.geekdo-images.com/images/pic3211873.jpg</td>\n      <td>4</td>\n      <td>60</td>\n      <td>10</td>\n      <td>2</td>\n      <td>30</td>\n      <td>Samurai</td>\n      <td>60</td>\n      <td>...</td>\n      <td>Franz Vohwinkel</td>\n      <td>Abstract Strategy,Medieval</td>\n      <td>NaN</td>\n      <td>Reiner Knizia</td>\n      <td>NaN</td>\n      <td>Asian Theme,Country: Japan,Knizia tile-laying ...</td>\n      <td>Area Control / Area Influence,Hand Management,...</td>\n      <td>999 Games,ABACUSSPIELE,Astrel Games,Ceilikan J...</td>\n      <td>7.44119</td>\n      <td>12019</td>\n    </tr>\n    <tr>\n      <th>3</th>\n      <td>4</td>\n      <td>When you see the triangular box and the luxuri...</td>\n      <td>//cf.geekdo-images.com/images/pic285299.jpg</td>\n      <td>4</td>\n      <td>60</td>\n      <td>12</td>\n      <td>2</td>\n      <td>60</td>\n      <td>Tal der Könige</td>\n      <td>60</td>\n      <td>...</td>\n      <td>NaN</td>\n      <td>Ancient</td>\n      <td>NaN</td>\n      <td>Christian Beierer</td>\n      <td>NaN</td>\n      <td>Country: Egypt,Promotional Board Games</td>\n      <td>Action Point Allowance System,Area Control / A...</td>\n      <td>KOSMOS</td>\n      <td>6.60675</td>\n      <td>314</td>\n    </tr>\n    <tr>\n      <th>4</th>\n      <td>5</td>\n      <td>In Acquire, each player strategically invests ...</td>\n      <td>//cf.geekdo-images.com/images/pic342163.jpg</td>\n      <td>6</td>\n      <td>90</td>\n      <td>12</td>\n      <td>3</td>\n      <td>90</td>\n      <td>Acquire</td>\n      <td>90</td>\n      <td>...</td>\n      <td>Scott Okumura,Peter Whitley</td>\n      <td>Economic</td>\n      <td>NaN</td>\n      <td>Sid Sackson</td>\n      <td>NaN</td>\n      <td>3M Bookshelf Series</td>\n      <td>Hand Management,Stock Holding,Tile Placement</td>\n      <td>3M,Avalon Hill,Avalon Hill (Hasbro),Dujardin,G...</td>\n      <td>7.35830</td>\n      <td>15195</td>\n    </tr>\n  </tbody>\n</table>\n<p>5 rows × 22 columns</p>\n</div>"
     },
     "execution_count": 3,
     "metadata": {},
     "output_type": "execute_result"
    }
   ],
   "source": [
    "# Top rows of the dataset \n",
    "dataset.head()"
   ]
  },
  {
   "cell_type": "code",
   "execution_count": 4,
   "id": "52824ba82b48cc04",
   "metadata": {
    "ExecuteTime": {
     "end_time": "2024-01-02T21:12:24.643266Z",
     "start_time": "2024-01-02T21:12:24.634221Z"
    }
   },
   "outputs": [
    {
     "name": "stdout",
     "output_type": "stream",
     "text": [
      "<class 'pandas.core.frame.DataFrame'>\n",
      "RangeIndex: 10532 entries, 0 to 10531\n",
      "Data columns (total 22 columns):\n",
      " #   Column          Non-Null Count  Dtype  \n",
      "---  ------          --------------  -----  \n",
      " 0   game_id         10532 non-null  int64  \n",
      " 1   description     10532 non-null  object \n",
      " 2   image           10531 non-null  object \n",
      " 3   max_players     10532 non-null  int64  \n",
      " 4   max_playtime    10532 non-null  int64  \n",
      " 5   min_age         10532 non-null  int64  \n",
      " 6   min_players     10532 non-null  int64  \n",
      " 7   min_playtime    10532 non-null  int64  \n",
      " 8   name            10532 non-null  object \n",
      " 9   playing_time    10532 non-null  int64  \n",
      " 10  thumbnail       10531 non-null  object \n",
      " 11  year_published  10532 non-null  int64  \n",
      " 12  artist          7759 non-null   object \n",
      " 13  category        10438 non-null  object \n",
      " 14  compilation     410 non-null    object \n",
      " 15  designer        10406 non-null  object \n",
      " 16  expansion       2752 non-null   object \n",
      " 17  family          7724 non-null   object \n",
      " 18  mechanic        9582 non-null   object \n",
      " 19  publisher       10529 non-null  object \n",
      " 20  average_rating  10532 non-null  float64\n",
      " 21  users_rated     10532 non-null  int64  \n",
      "dtypes: float64(1), int64(9), object(12)\n",
      "memory usage: 1.8+ MB\n"
     ]
    }
   ],
   "source": [
    "# Data types\n",
    "dataset.info()"
   ]
  },
  {
   "cell_type": "code",
   "execution_count": 5,
   "id": "52226cab6032375b",
   "metadata": {
    "ExecuteTime": {
     "end_time": "2024-01-02T21:12:24.686390Z",
     "start_time": "2024-01-02T21:12:24.647320Z"
    }
   },
   "outputs": [
    {
     "data": {
      "text/plain": "game_id               0\ndescription           0\nimage                 1\nmax_players           0\nmax_playtime          0\nmin_age               0\nmin_players           0\nmin_playtime          0\nname                  0\nplaying_time          0\nthumbnail             1\nyear_published        0\nartist             2773\ncategory             94\ncompilation       10122\ndesigner            126\nexpansion          7780\nfamily             2808\nmechanic            950\npublisher             3\naverage_rating        0\nusers_rated           0\ndtype: int64"
     },
     "execution_count": 5,
     "metadata": {},
     "output_type": "execute_result"
    }
   ],
   "source": [
    "# Identifying null values\n",
    "dataset.isnull().sum()"
   ]
  },
  {
   "cell_type": "code",
   "execution_count": 6,
   "id": "35c4b3d622d81b47",
   "metadata": {
    "ExecuteTime": {
     "end_time": "2024-01-02T21:12:24.686864Z",
     "start_time": "2024-01-02T21:12:24.651685Z"
    }
   },
   "outputs": [],
   "source": [
    "# Handling columns with null values\n",
    "dataset = dataset.drop(['compilation', 'expansion', 'family', 'artist', 'mechanic', 'thumbnail', 'playing_time'], axis = 1)"
   ]
  },
  {
   "cell_type": "code",
   "execution_count": 7,
   "id": "7446327cca2a78c1",
   "metadata": {
    "ExecuteTime": {
     "end_time": "2024-01-02T21:12:24.690232Z",
     "start_time": "2024-01-02T21:12:24.656067Z"
    }
   },
   "outputs": [],
   "source": [
    "# Combining the values of the columns 'designer' and 'publisher' into 'designer' column and reverse\n",
    "dataset['designer'].fillna(dataset['publisher'], inplace=True)\n",
    "dataset['publisher'].fillna(dataset['designer'], inplace=True)"
   ]
  },
  {
   "cell_type": "code",
   "execution_count": 8,
   "id": "8d324061906f58e4",
   "metadata": {
    "ExecuteTime": {
     "end_time": "2024-01-02T21:12:24.706067Z",
     "start_time": "2024-01-02T21:12:24.659859Z"
    }
   },
   "outputs": [],
   "source": [
    "# Create a new column 'average_playtime'\n",
    "dataset['average_playtime'] = (dataset['min_playtime'] + dataset['max_playtime']) / 2"
   ]
  },
  {
   "cell_type": "code",
   "execution_count": 9,
   "id": "11f2e9f9337b7845",
   "metadata": {
    "ExecuteTime": {
     "end_time": "2024-01-02T21:12:24.706233Z",
     "start_time": "2024-01-02T21:12:24.663799Z"
    }
   },
   "outputs": [],
   "source": [
    "# Deleting 'max_playtime' and 'min_playtime' column\n",
    "dataset = dataset.drop(['max_playtime', 'min_playtime'], axis = 1)"
   ]
  },
  {
   "cell_type": "code",
   "execution_count": 10,
   "id": "2a5d053f444e6dde",
   "metadata": {
    "ExecuteTime": {
     "end_time": "2024-01-02T21:12:24.706281Z",
     "start_time": "2024-01-02T21:12:24.666148Z"
    }
   },
   "outputs": [],
   "source": [
    "# Replace null values in 'image' with 'image_not_found'\n",
    "dataset['image'].fillna('image_not_found', inplace=True)\n",
    "\n",
    "# Replace null values in 'category' with 'Other'\n",
    "dataset['category'].fillna('Other', inplace=True)"
   ]
  },
  {
   "cell_type": "code",
   "execution_count": 11,
   "id": "ff138a3b08680167",
   "metadata": {
    "ExecuteTime": {
     "end_time": "2024-01-02T21:12:24.707155Z",
     "start_time": "2024-01-02T21:12:24.671070Z"
    }
   },
   "outputs": [
    {
     "data": {
      "text/plain": "game_id             0\ndescription         0\nimage               0\nmax_players         0\nmin_age             0\nmin_players         0\nname                0\nyear_published      0\ncategory            0\ndesigner            1\npublisher           1\naverage_rating      0\nusers_rated         0\naverage_playtime    0\ndtype: int64"
     },
     "execution_count": 11,
     "metadata": {},
     "output_type": "execute_result"
    }
   ],
   "source": [
    "dataset.isnull().sum()"
   ]
  },
  {
   "cell_type": "code",
   "execution_count": 12,
   "id": "23db8de269172e5f",
   "metadata": {
    "ExecuteTime": {
     "end_time": "2024-01-02T21:12:24.707700Z",
     "start_time": "2024-01-02T21:12:24.679331Z"
    }
   },
   "outputs": [
    {
     "data": {
      "text/plain": "   game_id                                        description  \\\n0        1  Die Macher is a game about seven sequential po...   \n1        2  Dragonmaster is a trick-taking card game based...   \n2        3  Part of the Knizia tile-laying trilogy, Samura...   \n3        4  When you see the triangular box and the luxuri...   \n4        5  In Acquire, each player strategically invests ...   \n\n                                          image  max_players  min_age  \\\n0   //cf.geekdo-images.com/images/pic159509.jpg            5       14   \n1   //cf.geekdo-images.com/images/pic184174.jpg            4       12   \n2  //cf.geekdo-images.com/images/pic3211873.jpg            4       10   \n3   //cf.geekdo-images.com/images/pic285299.jpg            4       12   \n4   //cf.geekdo-images.com/images/pic342163.jpg            6       12   \n\n   min_players            name  year_published  \\\n0            3      Die Macher            1986   \n1            3    Dragonmaster            1981   \n2            2         Samurai            1998   \n3            2  Tal der Könige            1992   \n4            3         Acquire            1964   \n\n                         category               designer  \\\n0  Economic,Negotiation,Political     Karl-Heinz Schmiel   \n1               Card Game,Fantasy  G. W. \"Jerry\" D'Arcey   \n2      Abstract Strategy,Medieval          Reiner Knizia   \n3                         Ancient      Christian Beierer   \n4                        Economic            Sid Sackson   \n\n                                           publisher  average_rating  \\\n0  Hans im Glück Verlags-GmbH,Moskito Spiele,Vall...         7.66508   \n1                           E.S. Lowe,Milton Bradley         6.60815   \n2  999 Games,ABACUSSPIELE,Astrel Games,Ceilikan J...         7.44119   \n3                                             KOSMOS         6.60675   \n4  3M,Avalon Hill,Avalon Hill (Hasbro),Dujardin,G...         7.35830   \n\n   users_rated  average_playtime  \n0         4498             240.0  \n1          478              30.0  \n2        12019              45.0  \n3          314              60.0  \n4        15195              90.0  ",
      "text/html": "<div>\n<style scoped>\n    .dataframe tbody tr th:only-of-type {\n        vertical-align: middle;\n    }\n\n    .dataframe tbody tr th {\n        vertical-align: top;\n    }\n\n    .dataframe thead th {\n        text-align: right;\n    }\n</style>\n<table border=\"1\" class=\"dataframe\">\n  <thead>\n    <tr style=\"text-align: right;\">\n      <th></th>\n      <th>game_id</th>\n      <th>description</th>\n      <th>image</th>\n      <th>max_players</th>\n      <th>min_age</th>\n      <th>min_players</th>\n      <th>name</th>\n      <th>year_published</th>\n      <th>category</th>\n      <th>designer</th>\n      <th>publisher</th>\n      <th>average_rating</th>\n      <th>users_rated</th>\n      <th>average_playtime</th>\n    </tr>\n  </thead>\n  <tbody>\n    <tr>\n      <th>0</th>\n      <td>1</td>\n      <td>Die Macher is a game about seven sequential po...</td>\n      <td>//cf.geekdo-images.com/images/pic159509.jpg</td>\n      <td>5</td>\n      <td>14</td>\n      <td>3</td>\n      <td>Die Macher</td>\n      <td>1986</td>\n      <td>Economic,Negotiation,Political</td>\n      <td>Karl-Heinz Schmiel</td>\n      <td>Hans im Glück Verlags-GmbH,Moskito Spiele,Vall...</td>\n      <td>7.66508</td>\n      <td>4498</td>\n      <td>240.0</td>\n    </tr>\n    <tr>\n      <th>1</th>\n      <td>2</td>\n      <td>Dragonmaster is a trick-taking card game based...</td>\n      <td>//cf.geekdo-images.com/images/pic184174.jpg</td>\n      <td>4</td>\n      <td>12</td>\n      <td>3</td>\n      <td>Dragonmaster</td>\n      <td>1981</td>\n      <td>Card Game,Fantasy</td>\n      <td>G. W. \"Jerry\" D'Arcey</td>\n      <td>E.S. Lowe,Milton Bradley</td>\n      <td>6.60815</td>\n      <td>478</td>\n      <td>30.0</td>\n    </tr>\n    <tr>\n      <th>2</th>\n      <td>3</td>\n      <td>Part of the Knizia tile-laying trilogy, Samura...</td>\n      <td>//cf.geekdo-images.com/images/pic3211873.jpg</td>\n      <td>4</td>\n      <td>10</td>\n      <td>2</td>\n      <td>Samurai</td>\n      <td>1998</td>\n      <td>Abstract Strategy,Medieval</td>\n      <td>Reiner Knizia</td>\n      <td>999 Games,ABACUSSPIELE,Astrel Games,Ceilikan J...</td>\n      <td>7.44119</td>\n      <td>12019</td>\n      <td>45.0</td>\n    </tr>\n    <tr>\n      <th>3</th>\n      <td>4</td>\n      <td>When you see the triangular box and the luxuri...</td>\n      <td>//cf.geekdo-images.com/images/pic285299.jpg</td>\n      <td>4</td>\n      <td>12</td>\n      <td>2</td>\n      <td>Tal der Könige</td>\n      <td>1992</td>\n      <td>Ancient</td>\n      <td>Christian Beierer</td>\n      <td>KOSMOS</td>\n      <td>6.60675</td>\n      <td>314</td>\n      <td>60.0</td>\n    </tr>\n    <tr>\n      <th>4</th>\n      <td>5</td>\n      <td>In Acquire, each player strategically invests ...</td>\n      <td>//cf.geekdo-images.com/images/pic342163.jpg</td>\n      <td>6</td>\n      <td>12</td>\n      <td>3</td>\n      <td>Acquire</td>\n      <td>1964</td>\n      <td>Economic</td>\n      <td>Sid Sackson</td>\n      <td>3M,Avalon Hill,Avalon Hill (Hasbro),Dujardin,G...</td>\n      <td>7.35830</td>\n      <td>15195</td>\n      <td>90.0</td>\n    </tr>\n  </tbody>\n</table>\n</div>"
     },
     "execution_count": 12,
     "metadata": {},
     "output_type": "execute_result"
    }
   ],
   "source": [
    "dataset.head()"
   ]
  },
  {
   "cell_type": "code",
   "execution_count": 13,
   "id": "87db1a230aa42b62",
   "metadata": {
    "ExecuteTime": {
     "end_time": "2024-01-02T21:12:24.709003Z",
     "start_time": "2024-01-02T21:12:24.684650Z"
    }
   },
   "outputs": [
    {
     "name": "stdout",
     "output_type": "stream",
     "text": [
      "<class 'pandas.core.frame.DataFrame'>\n",
      "RangeIndex: 10532 entries, 0 to 10531\n",
      "Data columns (total 14 columns):\n",
      " #   Column            Non-Null Count  Dtype  \n",
      "---  ------            --------------  -----  \n",
      " 0   game_id           10532 non-null  int64  \n",
      " 1   description       10532 non-null  object \n",
      " 2   image             10532 non-null  object \n",
      " 3   max_players       10532 non-null  int64  \n",
      " 4   min_age           10532 non-null  int64  \n",
      " 5   min_players       10532 non-null  int64  \n",
      " 6   name              10532 non-null  object \n",
      " 7   year_published    10532 non-null  int64  \n",
      " 8   category          10532 non-null  object \n",
      " 9   designer          10531 non-null  object \n",
      " 10  publisher         10531 non-null  object \n",
      " 11  average_rating    10532 non-null  float64\n",
      " 12  users_rated       10532 non-null  int64  \n",
      " 13  average_playtime  10532 non-null  float64\n",
      "dtypes: float64(2), int64(6), object(6)\n",
      "memory usage: 1.1+ MB\n"
     ]
    }
   ],
   "source": [
    "dataset.info()"
   ]
  },
  {
   "cell_type": "code",
   "execution_count": 14,
   "id": "e6eedea9c5522e59",
   "metadata": {
    "collapsed": false,
    "ExecuteTime": {
     "end_time": "2024-01-02T21:12:24.723458Z",
     "start_time": "2024-01-02T21:12:24.694665Z"
    }
   },
   "outputs": [
    {
     "data": {
      "text/plain": "       average_rating average_rating_discretized  users_rated  \\\n0             7.66508                       High         4498   \n1             6.60815                       High          478   \n2             7.44119                       High        12019   \n3             6.60675                       High          314   \n4             7.35830                       High        15195   \n...               ...                        ...          ...   \n10527         8.35333                       High           75   \n10528         8.08780                       High           82   \n10529         7.28016                       High           63   \n10530         7.45871                       High          341   \n10531         7.52941                       High          119   \n\n      users_rated_discretized  \n0                    Very Low  \n1                    Very Low  \n2                    Very Low  \n3                    Very Low  \n4                         Low  \n...                       ...  \n10527                Very Low  \n10528                Very Low  \n10529                Very Low  \n10530                Very Low  \n10531                Very Low  \n\n[10532 rows x 4 columns]",
      "text/html": "<div>\n<style scoped>\n    .dataframe tbody tr th:only-of-type {\n        vertical-align: middle;\n    }\n\n    .dataframe tbody tr th {\n        vertical-align: top;\n    }\n\n    .dataframe thead th {\n        text-align: right;\n    }\n</style>\n<table border=\"1\" class=\"dataframe\">\n  <thead>\n    <tr style=\"text-align: right;\">\n      <th></th>\n      <th>average_rating</th>\n      <th>average_rating_discretized</th>\n      <th>users_rated</th>\n      <th>users_rated_discretized</th>\n    </tr>\n  </thead>\n  <tbody>\n    <tr>\n      <th>0</th>\n      <td>7.66508</td>\n      <td>High</td>\n      <td>4498</td>\n      <td>Very Low</td>\n    </tr>\n    <tr>\n      <th>1</th>\n      <td>6.60815</td>\n      <td>High</td>\n      <td>478</td>\n      <td>Very Low</td>\n    </tr>\n    <tr>\n      <th>2</th>\n      <td>7.44119</td>\n      <td>High</td>\n      <td>12019</td>\n      <td>Very Low</td>\n    </tr>\n    <tr>\n      <th>3</th>\n      <td>6.60675</td>\n      <td>High</td>\n      <td>314</td>\n      <td>Very Low</td>\n    </tr>\n    <tr>\n      <th>4</th>\n      <td>7.35830</td>\n      <td>High</td>\n      <td>15195</td>\n      <td>Low</td>\n    </tr>\n    <tr>\n      <th>...</th>\n      <td>...</td>\n      <td>...</td>\n      <td>...</td>\n      <td>...</td>\n    </tr>\n    <tr>\n      <th>10527</th>\n      <td>8.35333</td>\n      <td>High</td>\n      <td>75</td>\n      <td>Very Low</td>\n    </tr>\n    <tr>\n      <th>10528</th>\n      <td>8.08780</td>\n      <td>High</td>\n      <td>82</td>\n      <td>Very Low</td>\n    </tr>\n    <tr>\n      <th>10529</th>\n      <td>7.28016</td>\n      <td>High</td>\n      <td>63</td>\n      <td>Very Low</td>\n    </tr>\n    <tr>\n      <th>10530</th>\n      <td>7.45871</td>\n      <td>High</td>\n      <td>341</td>\n      <td>Very Low</td>\n    </tr>\n    <tr>\n      <th>10531</th>\n      <td>7.52941</td>\n      <td>High</td>\n      <td>119</td>\n      <td>Very Low</td>\n    </tr>\n  </tbody>\n</table>\n<p>10532 rows × 4 columns</p>\n</div>"
     },
     "execution_count": 14,
     "metadata": {},
     "output_type": "execute_result"
    }
   ],
   "source": [
    "# Discretize the 'average_rating' column\n",
    "dataset['average_rating_discretized'] = pd.cut(dataset['average_rating'], bins=3, labels=['Low', 'Medium', 'High'])\n",
    "\n",
    "# Discretize the 'average_rating' column\n",
    "dataset['users_rated_discretized'] = pd.cut(dataset['users_rated'], bins=5, labels=['Very Low', 'Low', 'Medium', 'High', 'Very High'])\n",
    "\n",
    "# Show the discretized columns\n",
    "dataset[['average_rating', 'average_rating_discretized','users_rated', 'users_rated_discretized']]"
   ]
  },
  {
   "cell_type": "code",
   "execution_count": 15,
   "id": "74230423a5b23feb",
   "metadata": {
    "collapsed": false,
    "ExecuteTime": {
     "end_time": "2024-01-02T21:12:24.766711Z",
     "start_time": "2024-01-02T21:12:24.707245Z"
    }
   },
   "outputs": [
    {
     "data": {
      "text/plain": "                                                    name  min_players  \\\n0                                             Die Macher            3   \n1                                           Dragonmaster            3   \n2                                                Samurai            2   \n3                                         Tal der Könige            2   \n4                                                Acquire            3   \n...                                                  ...          ...   \n10527  Silver Bayonet: The First Team in Vietnam, 196...            1   \n10528               Codex: Card-Time Strategy – Core Set            2   \n10529                                     Wind the Film!            2   \n10530                                  Robo Rally (2016)            2   \n10531    Villages of Valeria: Deluxe Kickstarter Edition            1   \n\n       average_rating  percent_of_rating  \n0             7.66508           0.087250  \n1             6.60815           0.075219  \n2             7.44119           0.015607  \n3             6.60675           0.013857  \n4             7.35830           0.083758  \n...               ...                ...  \n10527         8.35333           0.096678  \n10528         8.08780           0.016963  \n10529         7.28016           0.015269  \n10530         7.45871           0.015643  \n10531         7.52941           0.087142  \n\n[10532 rows x 4 columns]",
      "text/html": "<div>\n<style scoped>\n    .dataframe tbody tr th:only-of-type {\n        vertical-align: middle;\n    }\n\n    .dataframe tbody tr th {\n        vertical-align: top;\n    }\n\n    .dataframe thead th {\n        text-align: right;\n    }\n</style>\n<table border=\"1\" class=\"dataframe\">\n  <thead>\n    <tr style=\"text-align: right;\">\n      <th></th>\n      <th>name</th>\n      <th>min_players</th>\n      <th>average_rating</th>\n      <th>percent_of_rating</th>\n    </tr>\n  </thead>\n  <tbody>\n    <tr>\n      <th>0</th>\n      <td>Die Macher</td>\n      <td>3</td>\n      <td>7.66508</td>\n      <td>0.087250</td>\n    </tr>\n    <tr>\n      <th>1</th>\n      <td>Dragonmaster</td>\n      <td>3</td>\n      <td>6.60815</td>\n      <td>0.075219</td>\n    </tr>\n    <tr>\n      <th>2</th>\n      <td>Samurai</td>\n      <td>2</td>\n      <td>7.44119</td>\n      <td>0.015607</td>\n    </tr>\n    <tr>\n      <th>3</th>\n      <td>Tal der Könige</td>\n      <td>2</td>\n      <td>6.60675</td>\n      <td>0.013857</td>\n    </tr>\n    <tr>\n      <th>4</th>\n      <td>Acquire</td>\n      <td>3</td>\n      <td>7.35830</td>\n      <td>0.083758</td>\n    </tr>\n    <tr>\n      <th>...</th>\n      <td>...</td>\n      <td>...</td>\n      <td>...</td>\n      <td>...</td>\n    </tr>\n    <tr>\n      <th>10527</th>\n      <td>Silver Bayonet: The First Team in Vietnam, 196...</td>\n      <td>1</td>\n      <td>8.35333</td>\n      <td>0.096678</td>\n    </tr>\n    <tr>\n      <th>10528</th>\n      <td>Codex: Card-Time Strategy – Core Set</td>\n      <td>2</td>\n      <td>8.08780</td>\n      <td>0.016963</td>\n    </tr>\n    <tr>\n      <th>10529</th>\n      <td>Wind the Film!</td>\n      <td>2</td>\n      <td>7.28016</td>\n      <td>0.015269</td>\n    </tr>\n    <tr>\n      <th>10530</th>\n      <td>Robo Rally (2016)</td>\n      <td>2</td>\n      <td>7.45871</td>\n      <td>0.015643</td>\n    </tr>\n    <tr>\n      <th>10531</th>\n      <td>Villages of Valeria: Deluxe Kickstarter Edition</td>\n      <td>1</td>\n      <td>7.52941</td>\n      <td>0.087142</td>\n    </tr>\n  </tbody>\n</table>\n<p>10532 rows × 4 columns</p>\n</div>"
     },
     "execution_count": 15,
     "metadata": {},
     "output_type": "execute_result"
    }
   ],
   "source": [
    "# Find the percentage of total ratings achieved by each game with their respective number of minimum players\n",
    "\n",
    "# Define a function\n",
    "def calculate_percentage(x):\n",
    "   return x * 100 / x.sum()\n",
    "\n",
    "# Apply the function to column\n",
    "dataset['percent_of_rating'] = dataset.groupby('min_players')['average_rating'].transform(calculate_percentage)\n",
    "\n",
    "# Show the results\n",
    "dataset[['name', 'min_players', 'average_rating', 'percent_of_rating']]"
   ]
  },
  {
   "cell_type": "code",
   "execution_count": 16,
   "id": "285ab4e97ac8924a",
   "metadata": {
    "collapsed": false,
    "ExecuteTime": {
     "end_time": "2024-01-02T21:12:24.784467Z",
     "start_time": "2024-01-02T21:12:24.719474Z"
    }
   },
   "outputs": [
    {
     "data": {
      "text/plain": "       min_age  recommended_under_18\n0           14                     1\n1           12                     1\n2           10                     1\n3           12                     1\n4           12                     1\n...        ...                   ...\n10527       12                     1\n10528       13                     1\n10529       12                     1\n10530       12                     1\n10531       14                     1\n\n[10532 rows x 2 columns]",
      "text/html": "<div>\n<style scoped>\n    .dataframe tbody tr th:only-of-type {\n        vertical-align: middle;\n    }\n\n    .dataframe tbody tr th {\n        vertical-align: top;\n    }\n\n    .dataframe thead th {\n        text-align: right;\n    }\n</style>\n<table border=\"1\" class=\"dataframe\">\n  <thead>\n    <tr style=\"text-align: right;\">\n      <th></th>\n      <th>min_age</th>\n      <th>recommended_under_18</th>\n    </tr>\n  </thead>\n  <tbody>\n    <tr>\n      <th>0</th>\n      <td>14</td>\n      <td>1</td>\n    </tr>\n    <tr>\n      <th>1</th>\n      <td>12</td>\n      <td>1</td>\n    </tr>\n    <tr>\n      <th>2</th>\n      <td>10</td>\n      <td>1</td>\n    </tr>\n    <tr>\n      <th>3</th>\n      <td>12</td>\n      <td>1</td>\n    </tr>\n    <tr>\n      <th>4</th>\n      <td>12</td>\n      <td>1</td>\n    </tr>\n    <tr>\n      <th>...</th>\n      <td>...</td>\n      <td>...</td>\n    </tr>\n    <tr>\n      <th>10527</th>\n      <td>12</td>\n      <td>1</td>\n    </tr>\n    <tr>\n      <th>10528</th>\n      <td>13</td>\n      <td>1</td>\n    </tr>\n    <tr>\n      <th>10529</th>\n      <td>12</td>\n      <td>1</td>\n    </tr>\n    <tr>\n      <th>10530</th>\n      <td>12</td>\n      <td>1</td>\n    </tr>\n    <tr>\n      <th>10531</th>\n      <td>14</td>\n      <td>1</td>\n    </tr>\n  </tbody>\n</table>\n<p>10532 rows × 2 columns</p>\n</div>"
     },
     "execution_count": 16,
     "metadata": {},
     "output_type": "execute_result"
    }
   ],
   "source": [
    "# Binarize the 'average_playtime' column\n",
    "\n",
    "# For each game check the recommended minimum age that is required.\n",
    "# If the age is less than 18 it is mapping to 1, otherwise to 0.\n",
    "dataset['recommended_under_18'] = dataset['min_age'].apply(lambda x: 1 if x < 18 else 0)\n",
    "\n",
    "# Show the results\n",
    "dataset[['min_age', 'recommended_under_18']]"
   ]
  },
  {
   "cell_type": "code",
   "execution_count": 17,
   "id": "9242c983f25c824b",
   "metadata": {
    "collapsed": false,
    "ExecuteTime": {
     "end_time": "2024-01-02T21:12:24.786234Z",
     "start_time": "2024-01-02T21:12:24.728390Z"
    }
   },
   "outputs": [
    {
     "data": {
      "text/plain": "   game_id                                        description  \\\n0        1  Die Macher is a game about seven sequential po...   \n1        2  Dragonmaster is a trick-taking card game based...   \n2        3  Part of the Knizia tile-laying trilogy, Samura...   \n3        4  When you see the triangular box and the luxuri...   \n4        5  In Acquire, each player strategically invests ...   \n\n                                          image  max_players  min_age  \\\n0   //cf.geekdo-images.com/images/pic159509.jpg            5       14   \n1   //cf.geekdo-images.com/images/pic184174.jpg            4       12   \n2  //cf.geekdo-images.com/images/pic3211873.jpg            4       10   \n3   //cf.geekdo-images.com/images/pic285299.jpg            4       12   \n4   //cf.geekdo-images.com/images/pic342163.jpg            6       12   \n\n   min_players            name  year_published  \\\n0            3      Die Macher            1986   \n1            3    Dragonmaster            1981   \n2            2         Samurai            1998   \n3            2  Tal der Könige            1992   \n4            3         Acquire            1964   \n\n                         category               designer  \\\n0  Economic,Negotiation,Political     Karl-Heinz Schmiel   \n1               Card Game,Fantasy  G. W. \"Jerry\" D'Arcey   \n2      Abstract Strategy,Medieval          Reiner Knizia   \n3                         Ancient      Christian Beierer   \n4                        Economic            Sid Sackson   \n\n                                           publisher  average_rating  \\\n0  Hans im Glück Verlags-GmbH,Moskito Spiele,Vall...         7.66508   \n1                           E.S. Lowe,Milton Bradley         6.60815   \n2  999 Games,ABACUSSPIELE,Astrel Games,Ceilikan J...         7.44119   \n3                                             KOSMOS         6.60675   \n4  3M,Avalon Hill,Avalon Hill (Hasbro),Dujardin,G...         7.35830   \n\n   users_rated  average_playtime average_rating_discretized  \\\n0         4498             240.0                       High   \n1          478              30.0                       High   \n2        12019              45.0                       High   \n3          314              60.0                       High   \n4        15195              90.0                       High   \n\n  users_rated_discretized  percent_of_rating  recommended_under_18  \n0                Very Low           0.087250                     1  \n1                Very Low           0.075219                     1  \n2                Very Low           0.015607                     1  \n3                Very Low           0.013857                     1  \n4                     Low           0.083758                     1  ",
      "text/html": "<div>\n<style scoped>\n    .dataframe tbody tr th:only-of-type {\n        vertical-align: middle;\n    }\n\n    .dataframe tbody tr th {\n        vertical-align: top;\n    }\n\n    .dataframe thead th {\n        text-align: right;\n    }\n</style>\n<table border=\"1\" class=\"dataframe\">\n  <thead>\n    <tr style=\"text-align: right;\">\n      <th></th>\n      <th>game_id</th>\n      <th>description</th>\n      <th>image</th>\n      <th>max_players</th>\n      <th>min_age</th>\n      <th>min_players</th>\n      <th>name</th>\n      <th>year_published</th>\n      <th>category</th>\n      <th>designer</th>\n      <th>publisher</th>\n      <th>average_rating</th>\n      <th>users_rated</th>\n      <th>average_playtime</th>\n      <th>average_rating_discretized</th>\n      <th>users_rated_discretized</th>\n      <th>percent_of_rating</th>\n      <th>recommended_under_18</th>\n    </tr>\n  </thead>\n  <tbody>\n    <tr>\n      <th>0</th>\n      <td>1</td>\n      <td>Die Macher is a game about seven sequential po...</td>\n      <td>//cf.geekdo-images.com/images/pic159509.jpg</td>\n      <td>5</td>\n      <td>14</td>\n      <td>3</td>\n      <td>Die Macher</td>\n      <td>1986</td>\n      <td>Economic,Negotiation,Political</td>\n      <td>Karl-Heinz Schmiel</td>\n      <td>Hans im Glück Verlags-GmbH,Moskito Spiele,Vall...</td>\n      <td>7.66508</td>\n      <td>4498</td>\n      <td>240.0</td>\n      <td>High</td>\n      <td>Very Low</td>\n      <td>0.087250</td>\n      <td>1</td>\n    </tr>\n    <tr>\n      <th>1</th>\n      <td>2</td>\n      <td>Dragonmaster is a trick-taking card game based...</td>\n      <td>//cf.geekdo-images.com/images/pic184174.jpg</td>\n      <td>4</td>\n      <td>12</td>\n      <td>3</td>\n      <td>Dragonmaster</td>\n      <td>1981</td>\n      <td>Card Game,Fantasy</td>\n      <td>G. W. \"Jerry\" D'Arcey</td>\n      <td>E.S. Lowe,Milton Bradley</td>\n      <td>6.60815</td>\n      <td>478</td>\n      <td>30.0</td>\n      <td>High</td>\n      <td>Very Low</td>\n      <td>0.075219</td>\n      <td>1</td>\n    </tr>\n    <tr>\n      <th>2</th>\n      <td>3</td>\n      <td>Part of the Knizia tile-laying trilogy, Samura...</td>\n      <td>//cf.geekdo-images.com/images/pic3211873.jpg</td>\n      <td>4</td>\n      <td>10</td>\n      <td>2</td>\n      <td>Samurai</td>\n      <td>1998</td>\n      <td>Abstract Strategy,Medieval</td>\n      <td>Reiner Knizia</td>\n      <td>999 Games,ABACUSSPIELE,Astrel Games,Ceilikan J...</td>\n      <td>7.44119</td>\n      <td>12019</td>\n      <td>45.0</td>\n      <td>High</td>\n      <td>Very Low</td>\n      <td>0.015607</td>\n      <td>1</td>\n    </tr>\n    <tr>\n      <th>3</th>\n      <td>4</td>\n      <td>When you see the triangular box and the luxuri...</td>\n      <td>//cf.geekdo-images.com/images/pic285299.jpg</td>\n      <td>4</td>\n      <td>12</td>\n      <td>2</td>\n      <td>Tal der Könige</td>\n      <td>1992</td>\n      <td>Ancient</td>\n      <td>Christian Beierer</td>\n      <td>KOSMOS</td>\n      <td>6.60675</td>\n      <td>314</td>\n      <td>60.0</td>\n      <td>High</td>\n      <td>Very Low</td>\n      <td>0.013857</td>\n      <td>1</td>\n    </tr>\n    <tr>\n      <th>4</th>\n      <td>5</td>\n      <td>In Acquire, each player strategically invests ...</td>\n      <td>//cf.geekdo-images.com/images/pic342163.jpg</td>\n      <td>6</td>\n      <td>12</td>\n      <td>3</td>\n      <td>Acquire</td>\n      <td>1964</td>\n      <td>Economic</td>\n      <td>Sid Sackson</td>\n      <td>3M,Avalon Hill,Avalon Hill (Hasbro),Dujardin,G...</td>\n      <td>7.35830</td>\n      <td>15195</td>\n      <td>90.0</td>\n      <td>High</td>\n      <td>Low</td>\n      <td>0.083758</td>\n      <td>1</td>\n    </tr>\n  </tbody>\n</table>\n</div>"
     },
     "execution_count": 17,
     "metadata": {},
     "output_type": "execute_result"
    }
   ],
   "source": [
    "dataset.head()"
   ]
  },
  {
   "cell_type": "code",
   "execution_count": 18,
   "id": "91599e88",
   "metadata": {
    "ExecuteTime": {
     "end_time": "2024-01-02T21:12:24.786443Z",
     "start_time": "2024-01-02T21:12:24.735417Z"
    }
   },
   "outputs": [
    {
     "name": "stdout",
     "output_type": "stream",
     "text": [
      "Z-Score Outliers:\n",
      "        min_age  min_players  max_players  average_rating  average_playtime\n",
      "206    1.241657    -0.106187     0.071103        1.369683         13.824876\n",
      "231    0.662125    -0.106187     0.018147        0.427254          3.712769\n",
      "490    0.662125    -3.116594    -0.299591        0.222250         -0.133554\n",
      "508    0.662125    -0.106187     4.996036       -0.538755         -0.040498\n",
      "677    2.400721    -3.116594    -0.299591       -0.232330         -0.040498\n",
      "...         ...          ...          ...             ...               ...\n",
      "10161 -0.496938    -0.106187    52.603719       -0.276808         -0.048253\n",
      "10194 -0.496938    -0.106187     4.943079        0.000240         -0.102536\n",
      "10421  0.662125     2.904219     4.943079        0.966543         -0.063762\n",
      "10448 -0.496938    -0.106187     4.943079        0.971106         -0.133554\n",
      "10452 -0.496938     1.399016    -0.034810       -3.221769         -0.087026\n",
      "\n",
      "[230 rows x 5 columns]\n"
     ]
    }
   ],
   "source": [
    "# Selecting features for outlier detection\n",
    "outlier_features = dataset[['min_age', 'min_players', 'max_players', 'average_rating', 'average_playtime']]\n",
    "\n",
    "# Standardize the data using Z-Score\n",
    "scaler = StandardScaler()\n",
    "standardized_features = scaler.fit_transform(outlier_features)\n",
    "\n",
    "# Z-Score Outlier Detection\n",
    "z_scores = pd.DataFrame(standardized_features, columns=outlier_features.columns)\n",
    "outliers_zscore = z_scores[(z_scores.abs() > 3).any(axis=1)]\n",
    "\n",
    "# Display the results\n",
    "print(\"Z-Score Outliers:\")\n",
    "print(outliers_zscore)"
   ]
  },
  {
   "cell_type": "code",
   "execution_count": 19,
   "id": "106cd07e",
   "metadata": {
    "ExecuteTime": {
     "end_time": "2024-01-02T21:12:25.108224Z",
     "start_time": "2024-01-02T21:12:24.743410Z"
    }
   },
   "outputs": [
    {
     "data": {
      "text/plain": "<Figure size 1200x600 with 1 Axes>",
      "image/png": "[encoded data removed]"
     },
     "metadata": {},
     "output_type": "display_data"
    }
   ],
   "source": [
    "# Box plot for each feature\n",
    "plt.figure(figsize=(12, 6))\n",
    "sns.boxplot(data=z_scores)\n",
    "plt.title(\"Box Plot of Z-Scores for Outlier Detection\")\n",
    "plt.show()"
   ]
  },
  {
   "cell_type": "code",
   "execution_count": 20,
   "id": "21f288c2",
   "metadata": {
    "ExecuteTime": {
     "end_time": "2024-01-02T21:12:25.243764Z",
     "start_time": "2024-01-02T21:12:25.122299Z"
    }
   },
   "outputs": [
    {
     "data": {
      "text/plain": "       game_id                                        description  \\\n49          55  Loosely based on the book by Jostein Gaarder, ...   \n228        280   Neue Spiele im Alten Rom (or New Games in Old...   \n229        281  from the translation:&#10;The Swedish East Ind...   \n397        489  King Maya Pacal was born on March 26th 603 a.c...   \n437        549  Excerpted from a review by Ken Tidwell&#10;&#1...   \n...        ...                                                ...   \n10403   201406  From the Kickstarter blurb:&#10;&#10;The objec...   \n10429   203716  Description from the publisher:&#10;&#10;This ...   \n10439   204543  Description from the publisher:&#10;&#10;Get r...   \n10448   204734  You don't want to be stuck with sticks in Stic...   \n10451   204886  You are a jewel thief, and you've been invited...   \n\n                                              image  max_players  min_age  \\\n49      //cf.geekdo-images.com/images/pic575231.jpg            6       12   \n228       //cf.geekdo-images.com/images/pic5886.jpg            7       10   \n229    //cf.geekdo-images.com/images/pic1851288.jpg            5       10   \n397     //cf.geekdo-images.com/images/pic979203.jpg            2       12   \n437     //cf.geekdo-images.com/images/pic139628.jpg           12       12   \n...                                             ...          ...      ...   \n10403  //cf.geekdo-images.com/images/pic3487555.png            5        0   \n10429  //cf.geekdo-images.com/images/pic3090966.jpg            6        0   \n10439  //cf.geekdo-images.com/images/pic3280969.jpg            5       16   \n10448  //cf.geekdo-images.com/images/pic3107661.jpg           99        8   \n10451  //cf.geekdo-images.com/images/pic3109861.jpg            6       10   \n\n       min_players                      name  year_published  \\\n49               2            Sophie's World            1998   \n228              2  Neue Spiele im alten Rom            1994   \n229              2      Ostindiska Kompaniet            1991   \n397              2                     Pacal            1999   \n437              2                 Aerodrome            1994   \n...            ...                       ...             ...   \n10403            2              OrganATTACK!            2016   \n10429            2                    Ta-Da!            2016   \n10439            4                 Speak Out            2016   \n10448            2               Stick Stack            2016   \n10451            2                 Suspicion            2016   \n\n                                               category  \\\n49                                               Trivia   \n228                       Abstract Strategy,Game System   \n229                                   Economic,Nautical   \n397                                           Card Game   \n437    Aviation / Flight,Miniatures,Wargame,World War I   \n...                                                 ...   \n10403                                             Other   \n10429                                             Other   \n10439                              Card Game,Party Game   \n10448                                Action / Dexterity   \n10451                                         Deduction   \n\n                                            designer  \\\n49                            Ken Howard,Robert Hyde   \n228                                    Reiner Knizia   \n229                                       Dan Glimne   \n397                                 Günter Burkhardt   \n437                 Stanley Kubiak,Winston J. Kubiak   \n...                                              ...   \n10403                                     Nick Seluk   \n10429                                  Stephen Avery   \n10439                                         Hasbro   \n10448  Forrest-Pruzan Creative,Brad Ross,Jim Winslow   \n10451                        Forrest-Pruzan Creative   \n\n                                         publisher  average_rating  \\\n49      KOSMOS,Orion,Pontaccio,Sophisticated Games         4.93768   \n228                   New Games Order, LLC,Piatnik         6.81040   \n229                                          G&RRR         4.75000   \n397                                           Klee         6.19779   \n437                               (Self-Published)         7.63393   \n...                                            ...             ...   \n10403                             (Self-Published)         6.65429   \n10429                                 CMON Limited         6.35795   \n10439                                       Hasbro         5.29277   \n10448  Broadway Toys LTD,Mandoo Games,Wonder Forge         7.19661   \n10451                                 Wonder Forge         6.58150   \n\n       users_rated  average_playtime average_rating_discretized  \\\n49              69               0.0                     Medium   \n228            173               0.0                       High   \n229            130               0.0                     Medium   \n397             86               0.0                     Medium   \n437             84               0.0                       High   \n...            ...               ...                        ...   \n10403           70               0.0                       High   \n10429           88               0.0                     Medium   \n10439           83               0.0                     Medium   \n10448           59               0.0                       High   \n10451          135               0.0                       High   \n\n      users_rated_discretized  percent_of_rating  recommended_under_18  \n49                   Very Low           0.010356                     1  \n228                  Very Low           0.014284                     1  \n229                  Very Low           0.009962                     1  \n397                  Very Low           0.012999                     1  \n437                  Very Low           0.016011                     1  \n...                       ...                ...                   ...  \n10403                Very Low           0.013956                     1  \n10429                Very Low           0.013335                     1  \n10439                Very Low           0.370019                     1  \n10448                Very Low           0.015094                     1  \n10451                Very Low           0.013804                     1  \n\n[292 rows x 18 columns]",
      "text/html": "<div>\n<style scoped>\n    .dataframe tbody tr th:only-of-type {\n        vertical-align: middle;\n    }\n\n    .dataframe tbody tr th {\n        vertical-align: top;\n    }\n\n    .dataframe thead th {\n        text-align: right;\n    }\n</style>\n<table border=\"1\" class=\"dataframe\">\n  <thead>\n    <tr style=\"text-align: right;\">\n      <th></th>\n      <th>game_id</th>\n      <th>description</th>\n      <th>image</th>\n      <th>max_players</th>\n      <th>min_age</th>\n      <th>min_players</th>\n      <th>name</th>\n      <th>year_published</th>\n      <th>category</th>\n      <th>designer</th>\n      <th>publisher</th>\n      <th>average_rating</th>\n      <th>users_rated</th>\n      <th>average_playtime</th>\n      <th>average_rating_discretized</th>\n      <th>users_rated_discretized</th>\n      <th>percent_of_rating</th>\n      <th>recommended_under_18</th>\n    </tr>\n  </thead>\n  <tbody>\n    <tr>\n      <th>49</th>\n      <td>55</td>\n      <td>Loosely based on the book by Jostein Gaarder, ...</td>\n      <td>//cf.geekdo-images.com/images/pic575231.jpg</td>\n      <td>6</td>\n      <td>12</td>\n      <td>2</td>\n      <td>Sophie's World</td>\n      <td>1998</td>\n      <td>Trivia</td>\n      <td>Ken Howard,Robert Hyde</td>\n      <td>KOSMOS,Orion,Pontaccio,Sophisticated Games</td>\n      <td>4.93768</td>\n      <td>69</td>\n      <td>0.0</td>\n      <td>Medium</td>\n      <td>Very Low</td>\n      <td>0.010356</td>\n      <td>1</td>\n    </tr>\n    <tr>\n      <th>228</th>\n      <td>280</td>\n      <td>Neue Spiele im Alten Rom (or New Games in Old...</td>\n      <td>//cf.geekdo-images.com/images/pic5886.jpg</td>\n      <td>7</td>\n      <td>10</td>\n      <td>2</td>\n      <td>Neue Spiele im alten Rom</td>\n      <td>1994</td>\n      <td>Abstract Strategy,Game System</td>\n      <td>Reiner Knizia</td>\n      <td>New Games Order, LLC,Piatnik</td>\n      <td>6.81040</td>\n      <td>173</td>\n      <td>0.0</td>\n      <td>High</td>\n      <td>Very Low</td>\n      <td>0.014284</td>\n      <td>1</td>\n    </tr>\n    <tr>\n      <th>229</th>\n      <td>281</td>\n      <td>from the translation:&amp;#10;The Swedish East Ind...</td>\n      <td>//cf.geekdo-images.com/images/pic1851288.jpg</td>\n      <td>5</td>\n      <td>10</td>\n      <td>2</td>\n      <td>Ostindiska Kompaniet</td>\n      <td>1991</td>\n      <td>Economic,Nautical</td>\n      <td>Dan Glimne</td>\n      <td>G&amp;RRR</td>\n      <td>4.75000</td>\n      <td>130</td>\n      <td>0.0</td>\n      <td>Medium</td>\n      <td>Very Low</td>\n      <td>0.009962</td>\n      <td>1</td>\n    </tr>\n    <tr>\n      <th>397</th>\n      <td>489</td>\n      <td>King Maya Pacal was born on March 26th 603 a.c...</td>\n      <td>//cf.geekdo-images.com/images/pic979203.jpg</td>\n      <td>2</td>\n      <td>12</td>\n      <td>2</td>\n      <td>Pacal</td>\n      <td>1999</td>\n      <td>Card Game</td>\n      <td>Günter Burkhardt</td>\n      <td>Klee</td>\n      <td>6.19779</td>\n      <td>86</td>\n      <td>0.0</td>\n      <td>Medium</td>\n      <td>Very Low</td>\n      <td>0.012999</td>\n      <td>1</td>\n    </tr>\n    <tr>\n      <th>437</th>\n      <td>549</td>\n      <td>Excerpted from a review by Ken Tidwell&amp;#10;&amp;#1...</td>\n      <td>//cf.geekdo-images.com/images/pic139628.jpg</td>\n      <td>12</td>\n      <td>12</td>\n      <td>2</td>\n      <td>Aerodrome</td>\n      <td>1994</td>\n      <td>Aviation / Flight,Miniatures,Wargame,World War I</td>\n      <td>Stanley Kubiak,Winston J. Kubiak</td>\n      <td>(Self-Published)</td>\n      <td>7.63393</td>\n      <td>84</td>\n      <td>0.0</td>\n      <td>High</td>\n      <td>Very Low</td>\n      <td>0.016011</td>\n      <td>1</td>\n    </tr>\n    <tr>\n      <th>...</th>\n      <td>...</td>\n      <td>...</td>\n      <td>...</td>\n      <td>...</td>\n      <td>...</td>\n      <td>...</td>\n      <td>...</td>\n      <td>...</td>\n      <td>...</td>\n      <td>...</td>\n      <td>...</td>\n      <td>...</td>\n      <td>...</td>\n      <td>...</td>\n      <td>...</td>\n      <td>...</td>\n      <td>...</td>\n      <td>...</td>\n    </tr>\n    <tr>\n      <th>10403</th>\n      <td>201406</td>\n      <td>From the Kickstarter blurb:&amp;#10;&amp;#10;The objec...</td>\n      <td>//cf.geekdo-images.com/images/pic3487555.png</td>\n      <td>5</td>\n      <td>0</td>\n      <td>2</td>\n      <td>OrganATTACK!</td>\n      <td>2016</td>\n      <td>Other</td>\n      <td>Nick Seluk</td>\n      <td>(Self-Published)</td>\n      <td>6.65429</td>\n      <td>70</td>\n      <td>0.0</td>\n      <td>High</td>\n      <td>Very Low</td>\n      <td>0.013956</td>\n      <td>1</td>\n    </tr>\n    <tr>\n      <th>10429</th>\n      <td>203716</td>\n      <td>Description from the publisher:&amp;#10;&amp;#10;This ...</td>\n      <td>//cf.geekdo-images.com/images/pic3090966.jpg</td>\n      <td>6</td>\n      <td>0</td>\n      <td>2</td>\n      <td>Ta-Da!</td>\n      <td>2016</td>\n      <td>Other</td>\n      <td>Stephen Avery</td>\n      <td>CMON Limited</td>\n      <td>6.35795</td>\n      <td>88</td>\n      <td>0.0</td>\n      <td>Medium</td>\n      <td>Very Low</td>\n      <td>0.013335</td>\n      <td>1</td>\n    </tr>\n    <tr>\n      <th>10439</th>\n      <td>204543</td>\n      <td>Description from the publisher:&amp;#10;&amp;#10;Get r...</td>\n      <td>//cf.geekdo-images.com/images/pic3280969.jpg</td>\n      <td>5</td>\n      <td>16</td>\n      <td>4</td>\n      <td>Speak Out</td>\n      <td>2016</td>\n      <td>Card Game,Party Game</td>\n      <td>Hasbro</td>\n      <td>Hasbro</td>\n      <td>5.29277</td>\n      <td>83</td>\n      <td>0.0</td>\n      <td>Medium</td>\n      <td>Very Low</td>\n      <td>0.370019</td>\n      <td>1</td>\n    </tr>\n    <tr>\n      <th>10448</th>\n      <td>204734</td>\n      <td>You don't want to be stuck with sticks in Stic...</td>\n      <td>//cf.geekdo-images.com/images/pic3107661.jpg</td>\n      <td>99</td>\n      <td>8</td>\n      <td>2</td>\n      <td>Stick Stack</td>\n      <td>2016</td>\n      <td>Action / Dexterity</td>\n      <td>Forrest-Pruzan Creative,Brad Ross,Jim Winslow</td>\n      <td>Broadway Toys LTD,Mandoo Games,Wonder Forge</td>\n      <td>7.19661</td>\n      <td>59</td>\n      <td>0.0</td>\n      <td>High</td>\n      <td>Very Low</td>\n      <td>0.015094</td>\n      <td>1</td>\n    </tr>\n    <tr>\n      <th>10451</th>\n      <td>204886</td>\n      <td>You are a jewel thief, and you've been invited...</td>\n      <td>//cf.geekdo-images.com/images/pic3109861.jpg</td>\n      <td>6</td>\n      <td>10</td>\n      <td>2</td>\n      <td>Suspicion</td>\n      <td>2016</td>\n      <td>Deduction</td>\n      <td>Forrest-Pruzan Creative</td>\n      <td>Wonder Forge</td>\n      <td>6.58150</td>\n      <td>135</td>\n      <td>0.0</td>\n      <td>High</td>\n      <td>Very Low</td>\n      <td>0.013804</td>\n      <td>1</td>\n    </tr>\n  </tbody>\n</table>\n<p>292 rows × 18 columns</p>\n</div>"
     },
     "execution_count": 20,
     "metadata": {},
     "output_type": "execute_result"
    }
   ],
   "source": [
    "# Find rows where 'average_playtime' is 0\n",
    "zero_average_playtime_rows = dataset[dataset['average_playtime'] == 0]\n",
    "\n",
    "# Display the rows with 'average_playtime' equal to 0\n",
    "zero_average_playtime_rows"
   ]
  },
  {
   "cell_type": "code",
   "execution_count": 21,
   "id": "dd7dea61",
   "metadata": {
    "ExecuteTime": {
     "end_time": "2024-01-02T21:12:25.243901Z",
     "start_time": "2024-01-02T21:12:25.189076Z"
    }
   },
   "outputs": [],
   "source": [
    "# Filter rows where 'average_playtime' is 0 and drop them\n",
    "dataset = dataset[dataset['average_playtime'] != 0]"
   ]
  },
  {
   "cell_type": "code",
   "execution_count": 22,
   "id": "06e8523b",
   "metadata": {
    "ExecuteTime": {
     "end_time": "2024-01-02T21:12:25.244300Z",
     "start_time": "2024-01-02T21:12:25.189173Z"
    }
   },
   "outputs": [
    {
     "data": {
      "text/plain": "      game_id                                        description  \\\n677       920  Ultimate Ouburst is a superset of the original...   \n1074     1618  (from the back of the box:)&#10;&#10;The Frenc...   \n1472     2356  Players in turn roll the 21 word cubes, set th...   \n1709     2860  Piecepack is to board games what a Standard De...   \n1835     3127  The Age of Empires Expandable Card Game is a C...   \n2295     4289  (from the game box:)&#10;&#10;88 is an intense...   \n2297     4292  &quot;Being a set of introductory rules for th...   \n2917     6540  Fear God &amp; Dread Nought completes the Admi...   \n3512     9211  Push a button, slide the lever, or turn a knob...   \n4413    18776  This is the third and final volume in Robert B...   \n5811    37301  The Decktet is a 45-card deck of cards in 6 su...   \n\n                                            image  max_players  min_age  \\\n677   //cf.geekdo-images.com/images/pic243836.jpg            0       18   \n1074   //cf.geekdo-images.com/images/pic33540.jpg            0        0   \n1472  //cf.geekdo-images.com/images/pic275151.jpg            0       10   \n1709  //cf.geekdo-images.com/images/pic119215.jpg            0        5   \n1835  //cf.geekdo-images.com/images/pic327321.jpg            0       12   \n2295  //cf.geekdo-images.com/images/pic412210.jpg            0       12   \n2297   //cf.geekdo-images.com/images/pic31648.jpg            0       12   \n2917   //cf.geekdo-images.com/images/pic37116.jpg            0       12   \n3512  //cf.geekdo-images.com/images/pic306859.jpg            0        5   \n4413   //cf.geekdo-images.com/images/pic84883.jpg            0       12   \n5811  //cf.geekdo-images.com/images/pic353574.jpg            0        0   \n\n      min_players                         name  year_published  \\\n677             0            Ultimate Outburst            1999   \n1074            0        French Foreign Legion            1982   \n1472            0  Scrabble Sentence Cube Game            1971   \n1709            0                    Piecepack            2001   \n1835            0            Age of Empires II            2000   \n2295            0                           88            1980   \n2297            0      The Sword and the Flame            1979   \n2917            0    Fear God and Dread Nought            2001   \n3512            0           Screwball Scramble            1979   \n4413            0            The Mediterranean            2005   \n5811            0                      Decktet            2008   \n\n                                               category  \\\n677                                          Party Game   \n1074                                            Wargame   \n1472                                     Dice,Word Game   \n1709                                        Game System   \n1835  Card Game,Collectible Components,Fighting,Medi...   \n2295                               Wargame,World War II   \n2297                                 Miniatures,Wargame   \n2917            Miniatures,Nautical,Wargame,World War I   \n3512                          Action / Dexterity,Racing   \n4413                               Wargame,World War II   \n5811                 Card Game,Game System,Print & Play   \n\n                                               designer  \\\n677                                        Brian Hersch   \n1074    Larry V. Brom,Vernon Jay Stribling,E. R. Teuber   \n1472                                       (Uncredited)   \n1709                                         James Kyle   \n1835             Marcus D'Amelio,David May,Ted Triebull   \n2295                                       James M. Day   \n2297                                      Larry V. Brom   \n2917  Larry Bond,Chris Carlson,Michael Harris,Ed Ket...   \n3512                                       (Uncredited)   \n4413                                          Rob Beyma   \n5811                                       P. D. Magnus   \n\n                                              publisher  average_rating  \\\n677           Hasbro,Hersch and Company,Parker Brothers         6.17330   \n1074                                           Yaquinto         7.23214   \n1472                  danspil,Selchow & Righter,Top-Toy         4.62586   \n1709  Blue Panther,IcePack Games,Mesomorph Games,Pie...         7.09139   \n1835                                   Journeyman Press         5.88348   \n2295                                           Yaquinto         7.29423   \n2297  And That's The Way It Was...,Greenfield Hobby ...         7.42582   \n2917                                Clash of Arms Games         7.32759   \n3512                           Maplegrove,Pavilion,Tomy         5.48418   \n4413                                Clash of Arms Games         6.97059   \n5811  (Self-Published),(Web published),Blue Panther,...         7.52379   \n\n      users_rated  average_playtime average_rating_discretized  \\\n677           221              60.0                     Medium   \n1074           56              60.0                       High   \n1472          116              10.0                     Medium   \n1709          138              10.0                       High   \n1835          115             120.0                     Medium   \n2295          104              60.0                       High   \n2297           91              60.0                       High   \n2917           87             360.0                       High   \n3512          231              20.0                     Medium   \n4413           51             480.0                       High   \n5811          419              30.0                       High   \n\n     users_rated_discretized  percent_of_rating  recommended_under_18  \n677                 Very Low           3.023134                     0  \n1074                Very Low           3.541659                     1  \n1472                Very Low           2.265335                     1  \n1709                Very Low           3.472732                     1  \n1835                Very Low           2.881205                     1  \n2295                Very Low           3.572065                     1  \n2297                Very Low           3.636506                     1  \n2917                Very Low           3.588402                     1  \n3512                Very Low           2.685664                     1  \n4413                Very Low           3.413575                     1  \n5811                Very Low           3.684483                     1  ",
      "text/html": "<div>\n<style scoped>\n    .dataframe tbody tr th:only-of-type {\n        vertical-align: middle;\n    }\n\n    .dataframe tbody tr th {\n        vertical-align: top;\n    }\n\n    .dataframe thead th {\n        text-align: right;\n    }\n</style>\n<table border=\"1\" class=\"dataframe\">\n  <thead>\n    <tr style=\"text-align: right;\">\n      <th></th>\n      <th>game_id</th>\n      <th>description</th>\n      <th>image</th>\n      <th>max_players</th>\n      <th>min_age</th>\n      <th>min_players</th>\n      <th>name</th>\n      <th>year_published</th>\n      <th>category</th>\n      <th>designer</th>\n      <th>publisher</th>\n      <th>average_rating</th>\n      <th>users_rated</th>\n      <th>average_playtime</th>\n      <th>average_rating_discretized</th>\n      <th>users_rated_discretized</th>\n      <th>percent_of_rating</th>\n      <th>recommended_under_18</th>\n    </tr>\n  </thead>\n  <tbody>\n    <tr>\n      <th>677</th>\n      <td>920</td>\n      <td>Ultimate Ouburst is a superset of the original...</td>\n      <td>//cf.geekdo-images.com/images/pic243836.jpg</td>\n      <td>0</td>\n      <td>18</td>\n      <td>0</td>\n      <td>Ultimate Outburst</td>\n      <td>1999</td>\n      <td>Party Game</td>\n      <td>Brian Hersch</td>\n      <td>Hasbro,Hersch and Company,Parker Brothers</td>\n      <td>6.17330</td>\n      <td>221</td>\n      <td>60.0</td>\n      <td>Medium</td>\n      <td>Very Low</td>\n      <td>3.023134</td>\n      <td>0</td>\n    </tr>\n    <tr>\n      <th>1074</th>\n      <td>1618</td>\n      <td>(from the back of the box:)&amp;#10;&amp;#10;The Frenc...</td>\n      <td>//cf.geekdo-images.com/images/pic33540.jpg</td>\n      <td>0</td>\n      <td>0</td>\n      <td>0</td>\n      <td>French Foreign Legion</td>\n      <td>1982</td>\n      <td>Wargame</td>\n      <td>Larry V. Brom,Vernon Jay Stribling,E. R. Teuber</td>\n      <td>Yaquinto</td>\n      <td>7.23214</td>\n      <td>56</td>\n      <td>60.0</td>\n      <td>High</td>\n      <td>Very Low</td>\n      <td>3.541659</td>\n      <td>1</td>\n    </tr>\n    <tr>\n      <th>1472</th>\n      <td>2356</td>\n      <td>Players in turn roll the 21 word cubes, set th...</td>\n      <td>//cf.geekdo-images.com/images/pic275151.jpg</td>\n      <td>0</td>\n      <td>10</td>\n      <td>0</td>\n      <td>Scrabble Sentence Cube Game</td>\n      <td>1971</td>\n      <td>Dice,Word Game</td>\n      <td>(Uncredited)</td>\n      <td>danspil,Selchow &amp; Righter,Top-Toy</td>\n      <td>4.62586</td>\n      <td>116</td>\n      <td>10.0</td>\n      <td>Medium</td>\n      <td>Very Low</td>\n      <td>2.265335</td>\n      <td>1</td>\n    </tr>\n    <tr>\n      <th>1709</th>\n      <td>2860</td>\n      <td>Piecepack is to board games what a Standard De...</td>\n      <td>//cf.geekdo-images.com/images/pic119215.jpg</td>\n      <td>0</td>\n      <td>5</td>\n      <td>0</td>\n      <td>Piecepack</td>\n      <td>2001</td>\n      <td>Game System</td>\n      <td>James Kyle</td>\n      <td>Blue Panther,IcePack Games,Mesomorph Games,Pie...</td>\n      <td>7.09139</td>\n      <td>138</td>\n      <td>10.0</td>\n      <td>High</td>\n      <td>Very Low</td>\n      <td>3.472732</td>\n      <td>1</td>\n    </tr>\n    <tr>\n      <th>1835</th>\n      <td>3127</td>\n      <td>The Age of Empires Expandable Card Game is a C...</td>\n      <td>//cf.geekdo-images.com/images/pic327321.jpg</td>\n      <td>0</td>\n      <td>12</td>\n      <td>0</td>\n      <td>Age of Empires II</td>\n      <td>2000</td>\n      <td>Card Game,Collectible Components,Fighting,Medi...</td>\n      <td>Marcus D'Amelio,David May,Ted Triebull</td>\n      <td>Journeyman Press</td>\n      <td>5.88348</td>\n      <td>115</td>\n      <td>120.0</td>\n      <td>Medium</td>\n      <td>Very Low</td>\n      <td>2.881205</td>\n      <td>1</td>\n    </tr>\n    <tr>\n      <th>2295</th>\n      <td>4289</td>\n      <td>(from the game box:)&amp;#10;&amp;#10;88 is an intense...</td>\n      <td>//cf.geekdo-images.com/images/pic412210.jpg</td>\n      <td>0</td>\n      <td>12</td>\n      <td>0</td>\n      <td>88</td>\n      <td>1980</td>\n      <td>Wargame,World War II</td>\n      <td>James M. Day</td>\n      <td>Yaquinto</td>\n      <td>7.29423</td>\n      <td>104</td>\n      <td>60.0</td>\n      <td>High</td>\n      <td>Very Low</td>\n      <td>3.572065</td>\n      <td>1</td>\n    </tr>\n    <tr>\n      <th>2297</th>\n      <td>4292</td>\n      <td>&amp;quot;Being a set of introductory rules for th...</td>\n      <td>//cf.geekdo-images.com/images/pic31648.jpg</td>\n      <td>0</td>\n      <td>12</td>\n      <td>0</td>\n      <td>The Sword and the Flame</td>\n      <td>1979</td>\n      <td>Miniatures,Wargame</td>\n      <td>Larry V. Brom</td>\n      <td>And That's The Way It Was...,Greenfield Hobby ...</td>\n      <td>7.42582</td>\n      <td>91</td>\n      <td>60.0</td>\n      <td>High</td>\n      <td>Very Low</td>\n      <td>3.636506</td>\n      <td>1</td>\n    </tr>\n    <tr>\n      <th>2917</th>\n      <td>6540</td>\n      <td>Fear God &amp;amp; Dread Nought completes the Admi...</td>\n      <td>//cf.geekdo-images.com/images/pic37116.jpg</td>\n      <td>0</td>\n      <td>12</td>\n      <td>0</td>\n      <td>Fear God and Dread Nought</td>\n      <td>2001</td>\n      <td>Miniatures,Nautical,Wargame,World War I</td>\n      <td>Larry Bond,Chris Carlson,Michael Harris,Ed Ket...</td>\n      <td>Clash of Arms Games</td>\n      <td>7.32759</td>\n      <td>87</td>\n      <td>360.0</td>\n      <td>High</td>\n      <td>Very Low</td>\n      <td>3.588402</td>\n      <td>1</td>\n    </tr>\n    <tr>\n      <th>3512</th>\n      <td>9211</td>\n      <td>Push a button, slide the lever, or turn a knob...</td>\n      <td>//cf.geekdo-images.com/images/pic306859.jpg</td>\n      <td>0</td>\n      <td>5</td>\n      <td>0</td>\n      <td>Screwball Scramble</td>\n      <td>1979</td>\n      <td>Action / Dexterity,Racing</td>\n      <td>(Uncredited)</td>\n      <td>Maplegrove,Pavilion,Tomy</td>\n      <td>5.48418</td>\n      <td>231</td>\n      <td>20.0</td>\n      <td>Medium</td>\n      <td>Very Low</td>\n      <td>2.685664</td>\n      <td>1</td>\n    </tr>\n    <tr>\n      <th>4413</th>\n      <td>18776</td>\n      <td>This is the third and final volume in Robert B...</td>\n      <td>//cf.geekdo-images.com/images/pic84883.jpg</td>\n      <td>0</td>\n      <td>12</td>\n      <td>0</td>\n      <td>The Mediterranean</td>\n      <td>2005</td>\n      <td>Wargame,World War II</td>\n      <td>Rob Beyma</td>\n      <td>Clash of Arms Games</td>\n      <td>6.97059</td>\n      <td>51</td>\n      <td>480.0</td>\n      <td>High</td>\n      <td>Very Low</td>\n      <td>3.413575</td>\n      <td>1</td>\n    </tr>\n    <tr>\n      <th>5811</th>\n      <td>37301</td>\n      <td>The Decktet is a 45-card deck of cards in 6 su...</td>\n      <td>//cf.geekdo-images.com/images/pic353574.jpg</td>\n      <td>0</td>\n      <td>0</td>\n      <td>0</td>\n      <td>Decktet</td>\n      <td>2008</td>\n      <td>Card Game,Game System,Print &amp; Play</td>\n      <td>P. D. Magnus</td>\n      <td>(Self-Published),(Web published),Blue Panther,...</td>\n      <td>7.52379</td>\n      <td>419</td>\n      <td>30.0</td>\n      <td>High</td>\n      <td>Very Low</td>\n      <td>3.684483</td>\n      <td>1</td>\n    </tr>\n  </tbody>\n</table>\n</div>"
     },
     "execution_count": 22,
     "metadata": {},
     "output_type": "execute_result"
    }
   ],
   "source": [
    "# Find rows where both 'min_players' and 'max_players' are 0\n",
    "zero_players_rows = dataset[(dataset['min_players'] == 0) & (dataset['max_players'] == 0)]\n",
    "\n",
    "# Display the rows with min_players and max_players equal to 0\n",
    "zero_players_rows"
   ]
  },
  {
   "cell_type": "code",
   "execution_count": 23,
   "id": "e5914ff0",
   "metadata": {
    "ExecuteTime": {
     "end_time": "2024-01-02T21:12:25.244353Z",
     "start_time": "2024-01-02T21:12:25.193758Z"
    }
   },
   "outputs": [],
   "source": [
    "# Drop the rows with min_players and max_players equal to 0\n",
    "dataset.drop(zero_players_rows.index, inplace=True)"
   ]
  },
  {
   "cell_type": "code",
   "execution_count": 24,
   "id": "62835d5b",
   "metadata": {
    "ExecuteTime": {
     "end_time": "2024-01-02T21:12:25.244397Z",
     "start_time": "2024-01-02T21:12:25.200592Z"
    }
   },
   "outputs": [],
   "source": [
    "# Set 'min_players' to 1 where 'min_players' is 0\n",
    "dataset.loc[dataset['min_players'] == 0, 'min_players'] = 1"
   ]
  },
  {
   "cell_type": "code",
   "execution_count": 25,
   "id": "14e271e5",
   "metadata": {
    "ExecuteTime": {
     "end_time": "2024-01-02T21:12:25.244842Z",
     "start_time": "2024-01-02T21:12:25.208300Z"
    }
   },
   "outputs": [
    {
     "name": "stdout",
     "output_type": "stream",
     "text": [
      "Rows with 'min_age' equal to 0:\n"
     ]
    },
    {
     "data": {
      "text/plain": "       game_id                                        description  \\\n139        166  In this cheerfully demented offering, particip...   \n236        288  Rossyia 1917 is mid-high complexity game of th...   \n450        563  The game of the great American lawsuit. &#10;I...   \n517        669  A light card game involving the build-up and d...   \n534        695  This abstract strategy doesn't really use the ...   \n...        ...                                                ...   \n10346   198003  Dark Deeds is a darkly humorous card game of s...   \n10365   198855  GearSeed is a peculiar world of shifting seaso...   \n10417   203102  In Buffy the Vampire Slayer: The Board Game, y...   \n10419   203270  From the publisher:&#10;&#10;Are you ready to ...   \n10517   209530  Gwent is a standalone card game included insid...   \n\n                                              image  max_players  min_age  \\\n139     //cf.geekdo-images.com/images/pic180585.jpg            6        0   \n236      //cf.geekdo-images.com/images/pic49238.jpg            5        0   \n450       //cf.geekdo-images.com/images/pic3923.jpg           15        0   \n517       //cf.geekdo-images.com/images/pic5254.jpg            6        0   \n534       //cf.geekdo-images.com/images/pic1007.jpg            2        0   \n...                                             ...          ...      ...   \n10346  //cf.geekdo-images.com/images/pic2984586.jpg            5        0   \n10365  //cf.geekdo-images.com/images/pic3007638.jpg            4        0   \n10417  //cf.geekdo-images.com/images/pic3080265.png            6        0   \n10419  //cf.geekdo-images.com/images/pic3218656.jpg            4        0   \n10517  //cf.geekdo-images.com/images/pic3194375.jpg            2        0   \n\n       min_players                                      name  year_published  \\\n139              2                               Black Death            1993   \n236              2                              Rossyïa 1917            1995   \n450              4                         Doolittle & Waite            1986   \n517              2                       Plague & Pestilence            1993   \n534              2                                 Fibonacci            1992   \n...            ...                                       ...             ...   \n10346            2                                Dark Deeds            2016   \n10365            2                                  GearSeed            2016   \n10417            1  Buffy the Vampire Slayer: The Board Game            2016   \n10419            2                                Gorechosen            2016   \n10517            2      Gwent: Nilfgaard and Northern Realms            2016   \n\n                                                category  \\\n139                                  Educational,Medical   \n236                                    Civil War,Wargame   \n450                       Bluffing,Card Game,Negotiation   \n517                                   Card Game,Medieval   \n534                                    Abstract Strategy   \n...                                                  ...   \n10346                                          Card Game   \n10365                                  Card Game,Fantasy   \n10417                          Movies / TV / Radio theme   \n10419                   Dice,Fantasy,Fighting,Miniatures   \n10517  Card Game,Collectible Components,Video Game Theme   \n\n                                                designer  \\\n139                                          Greg Porter   \n236                            François-Stanislas Thomas   \n450                                         (Uncredited)   \n517                                 Tray Green,Dawn Payn   \n534                                        Thomas Naylor   \n...                                                  ...   \n10346                          Andy Chambers,Ryan Miller   \n10365                                       John Clowdus   \n10417  Josh Derksen,Thomas M. Gofton,Dan Hoang,Aron M...   \n10419                                    James M. Hewitt   \n10517                                         CD Projekt   \n\n                                               publisher  average_rating  \\\n139    BTRC (Blacksburg Tactical Research Center),Dev...         5.70588   \n236                          Azure Wish Enterprise (AWE)         7.25508   \n450                                         Inward Games         6.21793   \n517                            Chessex,Hillary's Toy Box         6.12509   \n534                         Thomas Naylor and Associates         6.33246   \n...                                                  ...             ...   \n10346                                  Games & Gears LLP         7.99865   \n10365                                    Small Box Games         5.90448   \n10417                                        Jasco Games         7.31916   \n10419                                Games Workshop Ltd.         7.39058   \n10517                                     CD Projekt RED         7.10388   \n\n       users_rated  average_playtime average_rating_discretized  \\\n139            119             120.0                     Medium   \n236             63             300.0                       High   \n450             87              90.0                     Medium   \n517            627              30.0                     Medium   \n534             57              30.0                     Medium   \n...            ...               ...                        ...   \n10346           74              30.0                       High   \n10365           52              22.5                     Medium   \n10417          214              50.0                       High   \n10419          156              50.0                       High   \n10517           85              17.5                       High   \n\n      users_rated_discretized  percent_of_rating  recommended_under_18  \n139                  Very Low           0.011967                     1  \n236                  Very Low           0.015216                     1  \n450                  Very Low           0.434698                     1  \n517                  Very Low           0.012846                     1  \n534                  Very Low           0.013281                     1  \n...                       ...                ...                   ...  \n10346                Very Low           0.016776                     1  \n10365                Very Low           0.012384                     1  \n10417                Very Low           0.084709                     1  \n10419                Very Low           0.015501                     1  \n10517                Very Low           0.014899                     1  \n\n[500 rows x 18 columns]",
      "text/html": "<div>\n<style scoped>\n    .dataframe tbody tr th:only-of-type {\n        vertical-align: middle;\n    }\n\n    .dataframe tbody tr th {\n        vertical-align: top;\n    }\n\n    .dataframe thead th {\n        text-align: right;\n    }\n</style>\n<table border=\"1\" class=\"dataframe\">\n  <thead>\n    <tr style=\"text-align: right;\">\n      <th></th>\n      <th>game_id</th>\n      <th>description</th>\n      <th>image</th>\n      <th>max_players</th>\n      <th>min_age</th>\n      <th>min_players</th>\n      <th>name</th>\n      <th>year_published</th>\n      <th>category</th>\n      <th>designer</th>\n      <th>publisher</th>\n      <th>average_rating</th>\n      <th>users_rated</th>\n      <th>average_playtime</th>\n      <th>average_rating_discretized</th>\n      <th>users_rated_discretized</th>\n      <th>percent_of_rating</th>\n      <th>recommended_under_18</th>\n    </tr>\n  </thead>\n  <tbody>\n    <tr>\n      <th>139</th>\n      <td>166</td>\n      <td>In this cheerfully demented offering, particip...</td>\n      <td>//cf.geekdo-images.com/images/pic180585.jpg</td>\n      <td>6</td>\n      <td>0</td>\n      <td>2</td>\n      <td>Black Death</td>\n      <td>1993</td>\n      <td>Educational,Medical</td>\n      <td>Greg Porter</td>\n      <td>BTRC (Blacksburg Tactical Research Center),Dev...</td>\n      <td>5.70588</td>\n      <td>119</td>\n      <td>120.0</td>\n      <td>Medium</td>\n      <td>Very Low</td>\n      <td>0.011967</td>\n      <td>1</td>\n    </tr>\n    <tr>\n      <th>236</th>\n      <td>288</td>\n      <td>Rossyia 1917 is mid-high complexity game of th...</td>\n      <td>//cf.geekdo-images.com/images/pic49238.jpg</td>\n      <td>5</td>\n      <td>0</td>\n      <td>2</td>\n      <td>Rossyïa 1917</td>\n      <td>1995</td>\n      <td>Civil War,Wargame</td>\n      <td>François-Stanislas Thomas</td>\n      <td>Azure Wish Enterprise (AWE)</td>\n      <td>7.25508</td>\n      <td>63</td>\n      <td>300.0</td>\n      <td>High</td>\n      <td>Very Low</td>\n      <td>0.015216</td>\n      <td>1</td>\n    </tr>\n    <tr>\n      <th>450</th>\n      <td>563</td>\n      <td>The game of the great American lawsuit. &amp;#10;I...</td>\n      <td>//cf.geekdo-images.com/images/pic3923.jpg</td>\n      <td>15</td>\n      <td>0</td>\n      <td>4</td>\n      <td>Doolittle &amp; Waite</td>\n      <td>1986</td>\n      <td>Bluffing,Card Game,Negotiation</td>\n      <td>(Uncredited)</td>\n      <td>Inward Games</td>\n      <td>6.21793</td>\n      <td>87</td>\n      <td>90.0</td>\n      <td>Medium</td>\n      <td>Very Low</td>\n      <td>0.434698</td>\n      <td>1</td>\n    </tr>\n    <tr>\n      <th>517</th>\n      <td>669</td>\n      <td>A light card game involving the build-up and d...</td>\n      <td>//cf.geekdo-images.com/images/pic5254.jpg</td>\n      <td>6</td>\n      <td>0</td>\n      <td>2</td>\n      <td>Plague &amp; Pestilence</td>\n      <td>1993</td>\n      <td>Card Game,Medieval</td>\n      <td>Tray Green,Dawn Payn</td>\n      <td>Chessex,Hillary's Toy Box</td>\n      <td>6.12509</td>\n      <td>627</td>\n      <td>30.0</td>\n      <td>Medium</td>\n      <td>Very Low</td>\n      <td>0.012846</td>\n      <td>1</td>\n    </tr>\n    <tr>\n      <th>534</th>\n      <td>695</td>\n      <td>This abstract strategy doesn't really use the ...</td>\n      <td>//cf.geekdo-images.com/images/pic1007.jpg</td>\n      <td>2</td>\n      <td>0</td>\n      <td>2</td>\n      <td>Fibonacci</td>\n      <td>1992</td>\n      <td>Abstract Strategy</td>\n      <td>Thomas Naylor</td>\n      <td>Thomas Naylor and Associates</td>\n      <td>6.33246</td>\n      <td>57</td>\n      <td>30.0</td>\n      <td>Medium</td>\n      <td>Very Low</td>\n      <td>0.013281</td>\n      <td>1</td>\n    </tr>\n    <tr>\n      <th>...</th>\n      <td>...</td>\n      <td>...</td>\n      <td>...</td>\n      <td>...</td>\n      <td>...</td>\n      <td>...</td>\n      <td>...</td>\n      <td>...</td>\n      <td>...</td>\n      <td>...</td>\n      <td>...</td>\n      <td>...</td>\n      <td>...</td>\n      <td>...</td>\n      <td>...</td>\n      <td>...</td>\n      <td>...</td>\n      <td>...</td>\n    </tr>\n    <tr>\n      <th>10346</th>\n      <td>198003</td>\n      <td>Dark Deeds is a darkly humorous card game of s...</td>\n      <td>//cf.geekdo-images.com/images/pic2984586.jpg</td>\n      <td>5</td>\n      <td>0</td>\n      <td>2</td>\n      <td>Dark Deeds</td>\n      <td>2016</td>\n      <td>Card Game</td>\n      <td>Andy Chambers,Ryan Miller</td>\n      <td>Games &amp; Gears LLP</td>\n      <td>7.99865</td>\n      <td>74</td>\n      <td>30.0</td>\n      <td>High</td>\n      <td>Very Low</td>\n      <td>0.016776</td>\n      <td>1</td>\n    </tr>\n    <tr>\n      <th>10365</th>\n      <td>198855</td>\n      <td>GearSeed is a peculiar world of shifting seaso...</td>\n      <td>//cf.geekdo-images.com/images/pic3007638.jpg</td>\n      <td>4</td>\n      <td>0</td>\n      <td>2</td>\n      <td>GearSeed</td>\n      <td>2016</td>\n      <td>Card Game,Fantasy</td>\n      <td>John Clowdus</td>\n      <td>Small Box Games</td>\n      <td>5.90448</td>\n      <td>52</td>\n      <td>22.5</td>\n      <td>Medium</td>\n      <td>Very Low</td>\n      <td>0.012384</td>\n      <td>1</td>\n    </tr>\n    <tr>\n      <th>10417</th>\n      <td>203102</td>\n      <td>In Buffy the Vampire Slayer: The Board Game, y...</td>\n      <td>//cf.geekdo-images.com/images/pic3080265.png</td>\n      <td>6</td>\n      <td>0</td>\n      <td>1</td>\n      <td>Buffy the Vampire Slayer: The Board Game</td>\n      <td>2016</td>\n      <td>Movies / TV / Radio theme</td>\n      <td>Josh Derksen,Thomas M. Gofton,Dan Hoang,Aron M...</td>\n      <td>Jasco Games</td>\n      <td>7.31916</td>\n      <td>214</td>\n      <td>50.0</td>\n      <td>High</td>\n      <td>Very Low</td>\n      <td>0.084709</td>\n      <td>1</td>\n    </tr>\n    <tr>\n      <th>10419</th>\n      <td>203270</td>\n      <td>From the publisher:&amp;#10;&amp;#10;Are you ready to ...</td>\n      <td>//cf.geekdo-images.com/images/pic3218656.jpg</td>\n      <td>4</td>\n      <td>0</td>\n      <td>2</td>\n      <td>Gorechosen</td>\n      <td>2016</td>\n      <td>Dice,Fantasy,Fighting,Miniatures</td>\n      <td>James M. Hewitt</td>\n      <td>Games Workshop Ltd.</td>\n      <td>7.39058</td>\n      <td>156</td>\n      <td>50.0</td>\n      <td>High</td>\n      <td>Very Low</td>\n      <td>0.015501</td>\n      <td>1</td>\n    </tr>\n    <tr>\n      <th>10517</th>\n      <td>209530</td>\n      <td>Gwent is a standalone card game included insid...</td>\n      <td>//cf.geekdo-images.com/images/pic3194375.jpg</td>\n      <td>2</td>\n      <td>0</td>\n      <td>2</td>\n      <td>Gwent: Nilfgaard and Northern Realms</td>\n      <td>2016</td>\n      <td>Card Game,Collectible Components,Video Game Theme</td>\n      <td>CD Projekt</td>\n      <td>CD Projekt RED</td>\n      <td>7.10388</td>\n      <td>85</td>\n      <td>17.5</td>\n      <td>High</td>\n      <td>Very Low</td>\n      <td>0.014899</td>\n      <td>1</td>\n    </tr>\n  </tbody>\n</table>\n<p>500 rows × 18 columns</p>\n</div>"
     },
     "execution_count": 25,
     "metadata": {},
     "output_type": "execute_result"
    }
   ],
   "source": [
    "# Find rows where 'min_age' is 0\n",
    "zero_min_age_rows = dataset[dataset['min_age'] == 0]\n",
    "\n",
    "# Display the rows with 'min_age' equal to 0\n",
    "print(\"Rows with 'min_age' equal to 0:\")\n",
    "zero_min_age_rows"
   ]
  },
  {
   "cell_type": "code",
   "execution_count": 26,
   "id": "cf5d6809",
   "metadata": {
    "ExecuteTime": {
     "end_time": "2024-01-02T21:12:25.244889Z",
     "start_time": "2024-01-02T21:12:25.222880Z"
    }
   },
   "outputs": [],
   "source": [
    "# Remove rows where 'min_age' is 0\n",
    "dataset = dataset[dataset['min_age'] != 0]"
   ]
  },
  {
   "cell_type": "code",
   "execution_count": 27,
   "id": "67dbe5fb",
   "metadata": {
    "ExecuteTime": {
     "end_time": "2024-01-02T21:12:25.245159Z",
     "start_time": "2024-01-02T21:12:25.231522Z"
    }
   },
   "outputs": [
    {
     "name": "stdout",
     "output_type": "stream",
     "text": [
      "<class 'pandas.core.frame.DataFrame'>\n",
      "Index: 9729 entries, 0 to 10531\n",
      "Data columns (total 18 columns):\n",
      " #   Column                      Non-Null Count  Dtype   \n",
      "---  ------                      --------------  -----   \n",
      " 0   game_id                     9729 non-null   int64   \n",
      " 1   description                 9729 non-null   object  \n",
      " 2   image                       9729 non-null   object  \n",
      " 3   max_players                 9729 non-null   int64   \n",
      " 4   min_age                     9729 non-null   int64   \n",
      " 5   min_players                 9729 non-null   int64   \n",
      " 6   name                        9729 non-null   object  \n",
      " 7   year_published              9729 non-null   int64   \n",
      " 8   category                    9729 non-null   object  \n",
      " 9   designer                    9729 non-null   object  \n",
      " 10  publisher                   9729 non-null   object  \n",
      " 11  average_rating              9729 non-null   float64 \n",
      " 12  users_rated                 9729 non-null   int64   \n",
      " 13  average_playtime            9729 non-null   float64 \n",
      " 14  average_rating_discretized  9729 non-null   category\n",
      " 15  users_rated_discretized     9729 non-null   category\n",
      " 16  percent_of_rating           9729 non-null   float64 \n",
      " 17  recommended_under_18        9729 non-null   int64   \n",
      "dtypes: category(2), float64(3), int64(7), object(6)\n",
      "memory usage: 1.3+ MB\n"
     ]
    }
   ],
   "source": [
    "dataset.info()"
   ]
  },
  {
   "cell_type": "code",
   "execution_count": 28,
   "id": "fbdebe6d",
   "metadata": {
    "ExecuteTime": {
     "end_time": "2024-01-02T21:12:25.645059Z",
     "start_time": "2024-01-02T21:12:25.242015Z"
    }
   },
   "outputs": [
    {
     "data": {
      "text/plain": "<Figure size 1500x600 with 2 Axes>",
      "image/png": "[encoded data removed]"
     },
     "metadata": {},
     "output_type": "display_data"
    }
   ],
   "source": [
    "# Setting visualization style\n",
    "sns.set(style=\"whitegrid\")\n",
    "\n",
    "# Distribution of average playtime across different age\n",
    "min_age_analysis = dataset.groupby('min_age')['average_playtime'].mean().sort_values(ascending=False)\n",
    "\n",
    "# Comparison of average rating among different player counts (min_players)\n",
    "player_count_analysis = dataset.groupby('min_players')['average_rating'].mean()\n",
    "\n",
    "# Plotting the results\n",
    "plt.figure(figsize=(15, 6))\n",
    "\n",
    "# Plot for age analysis\n",
    "plt.subplot(1, 2, 1)\n",
    "min_age_analysis.plot(kind='bar', color='#FF5733')\n",
    "plt.title('Average Playtime by Minimum Age')\n",
    "plt.xlabel('Minimum Age')\n",
    "plt.ylabel('Average Playtime')\n",
    "plt.xticks(rotation=90)\n",
    "\n",
    "# Plot for player count analysis\n",
    "plt.subplot(1, 2, 2)\n",
    "player_count_analysis.plot(kind='bar', color='#4CAF50')\n",
    "plt.title('Average Rating by Minimum Players')\n",
    "plt.xlabel('Minimum Players')\n",
    "plt.ylabel('Average Rating')\n",
    "plt.xticks(rotation=90)\n",
    "\n",
    "# Adjusting the layout\n",
    "plt.tight_layout()\n",
    "\n",
    "plt.show()"
   ]
  },
  {
   "cell_type": "code",
   "execution_count": 29,
   "outputs": [
    {
     "name": "stdout",
     "output_type": "stream",
     "text": [
      "\n",
      "Numerical Summary Statistics:\n",
      "\n",
      "min_players Summary Statistics:\n",
      "Mean: 2.0819200328913556\n",
      "Median: 2.0\n",
      "Mode: 2\n",
      "Range: 8\n",
      "Variance: 0.42184516177894626\n",
      "Standard Deviation: 0.6494960829588938\n",
      "\n",
      "min_age Summary Statistics:\n",
      "Mean: 10.29088292733066\n",
      "Median: 10.0\n",
      "Mode: 12\n",
      "Range: 40\n",
      "Variance: 6.673396516823009\n",
      "Standard Deviation: 2.583291798621094\n",
      "\n",
      "year_published Summary Statistics:\n",
      "Mean: 2002.9327782917053\n",
      "Median: 2007.0\n",
      "Mode: 2015\n",
      "Range: 66\n",
      "Variance: 153.38281630373925\n",
      "Standard Deviation: 12.384781641342702\n",
      "\n",
      "average_rating Summary Statistics:\n",
      "Mean: 6.360702925274952\n",
      "Median: 6.38312\n",
      "Mode: 4.9\n",
      "Range: 7.619710000000001\n",
      "Variance: 0.6947629374289419\n",
      "Standard Deviation: 0.8335244072184941\n",
      "\n",
      "average_playtime Summary Statistics:\n",
      "Mean: 85.442440127454\n",
      "Median: 45.0\n",
      "Mode: 30.0\n",
      "Range: 59999.0\n",
      "Variance: 416753.6204015698\n",
      "Standard Deviation: 645.5645749276906\n"
     ]
    }
   ],
   "source": [
    "# Dictionary to store summary statistics for numerical columns\n",
    "numerical_summary_statistics = {}\n",
    "\n",
    "# Numerical columns\n",
    "numerical_columns = ['min_players', 'min_age', 'year_published', 'average_rating', 'average_playtime']\n",
    "\n",
    "# Numerical Columns Summary Statistics\n",
    "for column in numerical_columns:\n",
    "    numerical_summary_statistics[column] = {\n",
    "        'Mean': dataset[column].mean(),\n",
    "        'Median': dataset[column].median(),\n",
    "        'Mode': dataset[column].mode().iloc[0],\n",
    "        'Range': dataset[column].max() - dataset[column].min(),\n",
    "        'Variance': dataset[column].var(),\n",
    "        'Standard Deviation': dataset[column].std(),\n",
    "    }\n",
    "\n",
    "# Display the numerical summary statistics\n",
    "print(\"\\nNumerical Summary Statistics:\")\n",
    "for column, stats in numerical_summary_statistics.items():\n",
    "    print(f\"\\n{column} Summary Statistics:\")\n",
    "    for stat_name, stat_value in stats.items():\n",
    "        print(f\"{stat_name}: {stat_value}\")"
   ],
   "metadata": {
    "collapsed": false,
    "ExecuteTime": {
     "end_time": "2024-01-02T21:12:25.655582Z",
     "start_time": "2024-01-02T21:12:25.647257Z"
    }
   },
   "id": "272396827eb2b8e8"
  },
  {
   "cell_type": "code",
   "execution_count": 30,
   "outputs": [
    {
     "name": "stdout",
     "output_type": "stream",
     "text": [
      "\n",
      "Categorical Summary Statistics:\n",
      "users_rated_discretized Summary Statistics:\n",
      "\n",
      "Count: users_rated_discretized\n",
      "Very Low     9629\n",
      "Low            77\n",
      "Medium         13\n",
      "High            6\n",
      "Very High       4\n",
      "Name: count, dtype: int64\n",
      "\n",
      "Mode: Very Low\n"
     ]
    }
   ],
   "source": [
    "# Dictionary to store summary statistics for categorical columns\n",
    "categorical_summary_statistics = {}\n",
    "\n",
    "# Categorical column\n",
    "categorical_column = 'users_rated_discretized'\n",
    "\n",
    "# Categorical Column Summary Statistics\n",
    "categorical_summary_statistics[categorical_column] = {\n",
    "    'Count': dataset[categorical_column].value_counts(),\n",
    "    'Mode': dataset[categorical_column].mode().iloc[0],\n",
    "}\n",
    "\n",
    "# Display the categorical summary statistics\n",
    "print(\"\\nCategorical Summary Statistics:\")\n",
    "for column, stats in categorical_summary_statistics.items():\n",
    "    print(f\"{column} Summary Statistics:\")\n",
    "    for stat_name, stat_value in stats.items():\n",
    "        print(f\"\\n{stat_name}: {stat_value}\")"
   ],
   "metadata": {
    "collapsed": false,
    "ExecuteTime": {
     "end_time": "2024-01-02T21:12:25.662448Z",
     "start_time": "2024-01-02T21:12:25.654107Z"
    }
   },
   "id": "d5a0573db004ebd3"
  }
 ],
 "metadata": {
  "kernelspec": {
   "display_name": "Python 3",
   "language": "python",
   "name": "python3"
  },
  "language_info": {
   "codemirror_mode": {
    "name": "ipython",
    "version": 3
   },
   "file_extension": ".py",
   "mimetype": "text/x-python",
   "name": "python",
   "nbconvert_exporter": "python",
   "pygments_lexer": "ipython3",
   "version": "3.11.5"
  }
 },
 "nbformat": 4,
 "nbformat_minor": 5
}
