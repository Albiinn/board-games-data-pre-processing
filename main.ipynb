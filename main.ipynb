{
 "cells": [
  {
   "cell_type": "code",
   "execution_count": 1,
   "outputs": [],
   "source": [
    "# Libraries\n",
    "import pandas as pd"
   ],
   "metadata": {
    "collapsed": false,
    "ExecuteTime": {
     "end_time": "2023-11-19T09:34:37.548628Z",
     "start_time": "2023-11-19T09:34:37.179959Z"
    }
   },
   "id": "a1f66da32b3c4cef"
  },
  {
   "cell_type": "code",
   "execution_count": 2,
   "metadata": {
    "ExecuteTime": {
     "end_time": "2023-11-19T09:34:37.691114Z",
     "start_time": "2023-11-19T09:34:37.550536Z"
    }
   },
   "outputs": [],
   "source": [
    "# Data collection\n",
    "dataset = pd.read_csv(\"data/board_games.csv\")"
   ],
   "id": "d9df1b9b9b4e31be"
  },
  {
   "cell_type": "code",
   "execution_count": 3,
   "metadata": {
    "ExecuteTime": {
     "end_time": "2023-11-19T09:34:37.705345Z",
     "start_time": "2023-11-19T09:34:37.693170Z"
    }
   },
   "outputs": [
    {
     "data": {
      "text/plain": "   game_id                                        description  \\\n0        1  Die Macher is a game about seven sequential po...   \n1        2  Dragonmaster is a trick-taking card game based...   \n2        3  Part of the Knizia tile-laying trilogy, Samura...   \n3        4  When you see the triangular box and the luxuri...   \n4        5  In Acquire, each player strategically invests ...   \n\n                                          image  max_players  max_playtime  \\\n0   //cf.geekdo-images.com/images/pic159509.jpg            5           240   \n1   //cf.geekdo-images.com/images/pic184174.jpg            4            30   \n2  //cf.geekdo-images.com/images/pic3211873.jpg            4            60   \n3   //cf.geekdo-images.com/images/pic285299.jpg            4            60   \n4   //cf.geekdo-images.com/images/pic342163.jpg            6            90   \n\n   min_age  min_players  min_playtime            name  playing_time  ...  \\\n0       14            3           240      Die Macher           240  ...   \n1       12            3            30    Dragonmaster            30  ...   \n2       10            2            30         Samurai            60  ...   \n3       12            2            60  Tal der Könige            60  ...   \n4       12            3            90         Acquire            90  ...   \n\n                        artist                        category compilation  \\\n0          Marcus Gschwendtner  Economic,Negotiation,Political         NaN   \n1                   Bob Pepper               Card Game,Fantasy         NaN   \n2              Franz Vohwinkel      Abstract Strategy,Medieval         NaN   \n3                          NaN                         Ancient         NaN   \n4  Scott Okumura,Peter Whitley                        Economic         NaN   \n\n                designer expansion  \\\n0     Karl-Heinz Schmiel       NaN   \n1  G. W. \"Jerry\" D'Arcey       NaN   \n2          Reiner Knizia       NaN   \n3      Christian Beierer       NaN   \n4            Sid Sackson       NaN   \n\n                                              family  \\\n0         Country: Germany,Valley Games Classic Line   \n1                                   Animals: Dragons   \n2  Asian Theme,Country: Japan,Knizia tile-laying ...   \n3             Country: Egypt,Promotional Board Games   \n4                                3M Bookshelf Series   \n\n                                            mechanic  \\\n0  Area Control / Area Influence,Auction/Bidding,...   \n1                                       Trick-taking   \n2  Area Control / Area Influence,Hand Management,...   \n3  Action Point Allowance System,Area Control / A...   \n4       Hand Management,Stock Holding,Tile Placement   \n\n                                           publisher average_rating  \\\n0  Hans im Glück Verlags-GmbH,Moskito Spiele,Vall...        7.66508   \n1                           E.S. Lowe,Milton Bradley        6.60815   \n2  999 Games,ABACUSSPIELE,Astrel Games,Ceilikan J...        7.44119   \n3                                             KOSMOS        6.60675   \n4  3M,Avalon Hill,Avalon Hill (Hasbro),Dujardin,G...        7.35830   \n\n  users_rated  \n0        4498  \n1         478  \n2       12019  \n3         314  \n4       15195  \n\n[5 rows x 22 columns]",
      "text/html": "<div>\n<style scoped>\n    .dataframe tbody tr th:only-of-type {\n        vertical-align: middle;\n    }\n\n    .dataframe tbody tr th {\n        vertical-align: top;\n    }\n\n    .dataframe thead th {\n        text-align: right;\n    }\n</style>\n<table border=\"1\" class=\"dataframe\">\n  <thead>\n    <tr style=\"text-align: right;\">\n      <th></th>\n      <th>game_id</th>\n      <th>description</th>\n      <th>image</th>\n      <th>max_players</th>\n      <th>max_playtime</th>\n      <th>min_age</th>\n      <th>min_players</th>\n      <th>min_playtime</th>\n      <th>name</th>\n      <th>playing_time</th>\n      <th>...</th>\n      <th>artist</th>\n      <th>category</th>\n      <th>compilation</th>\n      <th>designer</th>\n      <th>expansion</th>\n      <th>family</th>\n      <th>mechanic</th>\n      <th>publisher</th>\n      <th>average_rating</th>\n      <th>users_rated</th>\n    </tr>\n  </thead>\n  <tbody>\n    <tr>\n      <th>0</th>\n      <td>1</td>\n      <td>Die Macher is a game about seven sequential po...</td>\n      <td>//cf.geekdo-images.com/images/pic159509.jpg</td>\n      <td>5</td>\n      <td>240</td>\n      <td>14</td>\n      <td>3</td>\n      <td>240</td>\n      <td>Die Macher</td>\n      <td>240</td>\n      <td>...</td>\n      <td>Marcus Gschwendtner</td>\n      <td>Economic,Negotiation,Political</td>\n      <td>NaN</td>\n      <td>Karl-Heinz Schmiel</td>\n      <td>NaN</td>\n      <td>Country: Germany,Valley Games Classic Line</td>\n      <td>Area Control / Area Influence,Auction/Bidding,...</td>\n      <td>Hans im Glück Verlags-GmbH,Moskito Spiele,Vall...</td>\n      <td>7.66508</td>\n      <td>4498</td>\n    </tr>\n    <tr>\n      <th>1</th>\n      <td>2</td>\n      <td>Dragonmaster is a trick-taking card game based...</td>\n      <td>//cf.geekdo-images.com/images/pic184174.jpg</td>\n      <td>4</td>\n      <td>30</td>\n      <td>12</td>\n      <td>3</td>\n      <td>30</td>\n      <td>Dragonmaster</td>\n      <td>30</td>\n      <td>...</td>\n      <td>Bob Pepper</td>\n      <td>Card Game,Fantasy</td>\n      <td>NaN</td>\n      <td>G. W. \"Jerry\" D'Arcey</td>\n      <td>NaN</td>\n      <td>Animals: Dragons</td>\n      <td>Trick-taking</td>\n      <td>E.S. Lowe,Milton Bradley</td>\n      <td>6.60815</td>\n      <td>478</td>\n    </tr>\n    <tr>\n      <th>2</th>\n      <td>3</td>\n      <td>Part of the Knizia tile-laying trilogy, Samura...</td>\n      <td>//cf.geekdo-images.com/images/pic3211873.jpg</td>\n      <td>4</td>\n      <td>60</td>\n      <td>10</td>\n      <td>2</td>\n      <td>30</td>\n      <td>Samurai</td>\n      <td>60</td>\n      <td>...</td>\n      <td>Franz Vohwinkel</td>\n      <td>Abstract Strategy,Medieval</td>\n      <td>NaN</td>\n      <td>Reiner Knizia</td>\n      <td>NaN</td>\n      <td>Asian Theme,Country: Japan,Knizia tile-laying ...</td>\n      <td>Area Control / Area Influence,Hand Management,...</td>\n      <td>999 Games,ABACUSSPIELE,Astrel Games,Ceilikan J...</td>\n      <td>7.44119</td>\n      <td>12019</td>\n    </tr>\n    <tr>\n      <th>3</th>\n      <td>4</td>\n      <td>When you see the triangular box and the luxuri...</td>\n      <td>//cf.geekdo-images.com/images/pic285299.jpg</td>\n      <td>4</td>\n      <td>60</td>\n      <td>12</td>\n      <td>2</td>\n      <td>60</td>\n      <td>Tal der Könige</td>\n      <td>60</td>\n      <td>...</td>\n      <td>NaN</td>\n      <td>Ancient</td>\n      <td>NaN</td>\n      <td>Christian Beierer</td>\n      <td>NaN</td>\n      <td>Country: Egypt,Promotional Board Games</td>\n      <td>Action Point Allowance System,Area Control / A...</td>\n      <td>KOSMOS</td>\n      <td>6.60675</td>\n      <td>314</td>\n    </tr>\n    <tr>\n      <th>4</th>\n      <td>5</td>\n      <td>In Acquire, each player strategically invests ...</td>\n      <td>//cf.geekdo-images.com/images/pic342163.jpg</td>\n      <td>6</td>\n      <td>90</td>\n      <td>12</td>\n      <td>3</td>\n      <td>90</td>\n      <td>Acquire</td>\n      <td>90</td>\n      <td>...</td>\n      <td>Scott Okumura,Peter Whitley</td>\n      <td>Economic</td>\n      <td>NaN</td>\n      <td>Sid Sackson</td>\n      <td>NaN</td>\n      <td>3M Bookshelf Series</td>\n      <td>Hand Management,Stock Holding,Tile Placement</td>\n      <td>3M,Avalon Hill,Avalon Hill (Hasbro),Dujardin,G...</td>\n      <td>7.35830</td>\n      <td>15195</td>\n    </tr>\n  </tbody>\n</table>\n<p>5 rows × 22 columns</p>\n</div>"
     },
     "execution_count": 3,
     "metadata": {},
     "output_type": "execute_result"
    }
   ],
   "source": [
    "# Top rows of the dataset \n",
    "dataset.head()"
   ],
   "id": "f3f4f9b608325d4"
  },
  {
   "cell_type": "code",
   "execution_count": 4,
   "metadata": {
    "ExecuteTime": {
     "end_time": "2023-11-19T09:34:37.723324Z",
     "start_time": "2023-11-19T09:34:37.706329Z"
    }
   },
   "outputs": [
    {
     "name": "stdout",
     "output_type": "stream",
     "text": [
      "<class 'pandas.core.frame.DataFrame'>\n",
      "RangeIndex: 10532 entries, 0 to 10531\n",
      "Data columns (total 22 columns):\n",
      " #   Column          Non-Null Count  Dtype  \n",
      "---  ------          --------------  -----  \n",
      " 0   game_id         10532 non-null  int64  \n",
      " 1   description     10532 non-null  object \n",
      " 2   image           10531 non-null  object \n",
      " 3   max_players     10532 non-null  int64  \n",
      " 4   max_playtime    10532 non-null  int64  \n",
      " 5   min_age         10532 non-null  int64  \n",
      " 6   min_players     10532 non-null  int64  \n",
      " 7   min_playtime    10532 non-null  int64  \n",
      " 8   name            10532 non-null  object \n",
      " 9   playing_time    10532 non-null  int64  \n",
      " 10  thumbnail       10531 non-null  object \n",
      " 11  year_published  10532 non-null  int64  \n",
      " 12  artist          7759 non-null   object \n",
      " 13  category        10438 non-null  object \n",
      " 14  compilation     410 non-null    object \n",
      " 15  designer        10406 non-null  object \n",
      " 16  expansion       2752 non-null   object \n",
      " 17  family          7724 non-null   object \n",
      " 18  mechanic        9582 non-null   object \n",
      " 19  publisher       10529 non-null  object \n",
      " 20  average_rating  10532 non-null  float64\n",
      " 21  users_rated     10532 non-null  int64  \n",
      "dtypes: float64(1), int64(9), object(12)\n",
      "memory usage: 1.8+ MB\n"
     ]
    }
   ],
   "source": [
    "# Data types\n",
    "dataset.info()"
   ],
   "id": "52824ba82b48cc04"
  },
  {
   "cell_type": "code",
   "execution_count": 5,
   "metadata": {
    "ExecuteTime": {
     "end_time": "2023-11-19T09:34:37.758778Z",
     "start_time": "2023-11-19T09:34:37.718350Z"
    }
   },
   "outputs": [
    {
     "data": {
      "text/plain": "game_id               0\ndescription           0\nimage                 1\nmax_players           0\nmax_playtime          0\nmin_age               0\nmin_players           0\nmin_playtime          0\nname                  0\nplaying_time          0\nthumbnail             1\nyear_published        0\nartist             2773\ncategory             94\ncompilation       10122\ndesigner            126\nexpansion          7780\nfamily             2808\nmechanic            950\npublisher             3\naverage_rating        0\nusers_rated           0\ndtype: int64"
     },
     "execution_count": 5,
     "metadata": {},
     "output_type": "execute_result"
    }
   ],
   "source": [
    "# Identifying null values\n",
    "dataset.isnull().sum()"
   ],
   "id": "52226cab6032375b"
  },
  {
   "cell_type": "code",
   "execution_count": 6,
   "metadata": {
    "ExecuteTime": {
     "end_time": "2023-11-19T09:34:37.759510Z",
     "start_time": "2023-11-19T09:34:37.722154Z"
    }
   },
   "outputs": [],
   "source": [
    "# Handling columns with null values\n",
    "dataset = dataset.drop(['compilation', 'expansion', 'family', 'artist', 'mechanic', 'thumbnail'], axis = 1)"
   ],
   "id": "35c4b3d622d81b47"
  },
  {
   "cell_type": "code",
   "execution_count": 7,
   "metadata": {
    "ExecuteTime": {
     "end_time": "2023-11-19T09:34:37.763453Z",
     "start_time": "2023-11-19T09:34:37.729062Z"
    }
   },
   "outputs": [],
   "source": [
    "# Combining the values of the columns 'designer' and 'publisher' into 'designer' column and reverse\n",
    "dataset['designer'].fillna(dataset['publisher'], inplace=True)\n",
    "dataset['publisher'].fillna(dataset['designer'], inplace=True)"
   ],
   "id": "7446327cca2a78c1"
  },
  {
   "cell_type": "code",
   "execution_count": 8,
   "metadata": {
    "ExecuteTime": {
     "end_time": "2023-11-19T09:34:37.786995Z",
     "start_time": "2023-11-19T09:34:37.732642Z"
    }
   },
   "outputs": [
    {
     "data": {
      "text/plain": "       game_id                                        description  \\\n49          55  Loosely based on the book by Jostein Gaarder, ...   \n228        280   Neue Spiele im Alten Rom (or New Games in Old...   \n229        281  from the translation:&#10;The Swedish East Ind...   \n397        489  King Maya Pacal was born on March 26th 603 a.c...   \n437        549  Excerpted from a review by Ken Tidwell&#10;&#1...   \n...        ...                                                ...   \n10403   201406  From the Kickstarter blurb:&#10;&#10;The objec...   \n10429   203716  Description from the publisher:&#10;&#10;This ...   \n10439   204543  Description from the publisher:&#10;&#10;Get r...   \n10448   204734  You don't want to be stuck with sticks in Stic...   \n10451   204886  You are a jewel thief, and you've been invited...   \n\n                                              image  max_players  \\\n49      //cf.geekdo-images.com/images/pic575231.jpg            6   \n228       //cf.geekdo-images.com/images/pic5886.jpg            7   \n229    //cf.geekdo-images.com/images/pic1851288.jpg            5   \n397     //cf.geekdo-images.com/images/pic979203.jpg            2   \n437     //cf.geekdo-images.com/images/pic139628.jpg           12   \n...                                             ...          ...   \n10403  //cf.geekdo-images.com/images/pic3487555.png            5   \n10429  //cf.geekdo-images.com/images/pic3090966.jpg            6   \n10439  //cf.geekdo-images.com/images/pic3280969.jpg            5   \n10448  //cf.geekdo-images.com/images/pic3107661.jpg           99   \n10451  //cf.geekdo-images.com/images/pic3109861.jpg            6   \n\n       max_playtime  min_age  min_players  min_playtime  \\\n49                0       12            2             0   \n228               0       10            2             0   \n229               0       10            2             0   \n397               0       12            2             0   \n437               0       12            2             0   \n...             ...      ...          ...           ...   \n10403             0        0            2             0   \n10429             0        0            2             0   \n10439             0       16            4             0   \n10448             0        8            2             0   \n10451             0       10            2             0   \n\n                           name  playing_time  year_published  \\\n49               Sophie's World             0            1998   \n228    Neue Spiele im alten Rom             0            1994   \n229        Ostindiska Kompaniet             0            1991   \n397                       Pacal             0            1999   \n437                   Aerodrome             0            1994   \n...                         ...           ...             ...   \n10403              OrganATTACK!             0            2016   \n10429                    Ta-Da!             0            2016   \n10439                 Speak Out             0            2016   \n10448               Stick Stack             0            2016   \n10451                 Suspicion             0            2016   \n\n                                               category  \\\n49                                               Trivia   \n228                       Abstract Strategy,Game System   \n229                                   Economic,Nautical   \n397                                           Card Game   \n437    Aviation / Flight,Miniatures,Wargame,World War I   \n...                                                 ...   \n10403                                               NaN   \n10429                                               NaN   \n10439                              Card Game,Party Game   \n10448                                Action / Dexterity   \n10451                                         Deduction   \n\n                                            designer  \\\n49                            Ken Howard,Robert Hyde   \n228                                    Reiner Knizia   \n229                                       Dan Glimne   \n397                                 Günter Burkhardt   \n437                 Stanley Kubiak,Winston J. Kubiak   \n...                                              ...   \n10403                                     Nick Seluk   \n10429                                  Stephen Avery   \n10439                                         Hasbro   \n10448  Forrest-Pruzan Creative,Brad Ross,Jim Winslow   \n10451                        Forrest-Pruzan Creative   \n\n                                         publisher  average_rating  \\\n49      KOSMOS,Orion,Pontaccio,Sophisticated Games         4.93768   \n228                   New Games Order, LLC,Piatnik         6.81040   \n229                                          G&RRR         4.75000   \n397                                           Klee         6.19779   \n437                               (Self-Published)         7.63393   \n...                                            ...             ...   \n10403                             (Self-Published)         6.65429   \n10429                                 CMON Limited         6.35795   \n10439                                       Hasbro         5.29277   \n10448  Broadway Toys LTD,Mandoo Games,Wonder Forge         7.19661   \n10451                                 Wonder Forge         6.58150   \n\n       users_rated  average_playtime  \n49              69               0.0  \n228            173               0.0  \n229            130               0.0  \n397             86               0.0  \n437             84               0.0  \n...            ...               ...  \n10403           70               0.0  \n10429           88               0.0  \n10439           83               0.0  \n10448           59               0.0  \n10451          135               0.0  \n\n[292 rows x 17 columns]",
      "text/html": "<div>\n<style scoped>\n    .dataframe tbody tr th:only-of-type {\n        vertical-align: middle;\n    }\n\n    .dataframe tbody tr th {\n        vertical-align: top;\n    }\n\n    .dataframe thead th {\n        text-align: right;\n    }\n</style>\n<table border=\"1\" class=\"dataframe\">\n  <thead>\n    <tr style=\"text-align: right;\">\n      <th></th>\n      <th>game_id</th>\n      <th>description</th>\n      <th>image</th>\n      <th>max_players</th>\n      <th>max_playtime</th>\n      <th>min_age</th>\n      <th>min_players</th>\n      <th>min_playtime</th>\n      <th>name</th>\n      <th>playing_time</th>\n      <th>year_published</th>\n      <th>category</th>\n      <th>designer</th>\n      <th>publisher</th>\n      <th>average_rating</th>\n      <th>users_rated</th>\n      <th>average_playtime</th>\n    </tr>\n  </thead>\n  <tbody>\n    <tr>\n      <th>49</th>\n      <td>55</td>\n      <td>Loosely based on the book by Jostein Gaarder, ...</td>\n      <td>//cf.geekdo-images.com/images/pic575231.jpg</td>\n      <td>6</td>\n      <td>0</td>\n      <td>12</td>\n      <td>2</td>\n      <td>0</td>\n      <td>Sophie's World</td>\n      <td>0</td>\n      <td>1998</td>\n      <td>Trivia</td>\n      <td>Ken Howard,Robert Hyde</td>\n      <td>KOSMOS,Orion,Pontaccio,Sophisticated Games</td>\n      <td>4.93768</td>\n      <td>69</td>\n      <td>0.0</td>\n    </tr>\n    <tr>\n      <th>228</th>\n      <td>280</td>\n      <td>Neue Spiele im Alten Rom (or New Games in Old...</td>\n      <td>//cf.geekdo-images.com/images/pic5886.jpg</td>\n      <td>7</td>\n      <td>0</td>\n      <td>10</td>\n      <td>2</td>\n      <td>0</td>\n      <td>Neue Spiele im alten Rom</td>\n      <td>0</td>\n      <td>1994</td>\n      <td>Abstract Strategy,Game System</td>\n      <td>Reiner Knizia</td>\n      <td>New Games Order, LLC,Piatnik</td>\n      <td>6.81040</td>\n      <td>173</td>\n      <td>0.0</td>\n    </tr>\n    <tr>\n      <th>229</th>\n      <td>281</td>\n      <td>from the translation:&amp;#10;The Swedish East Ind...</td>\n      <td>//cf.geekdo-images.com/images/pic1851288.jpg</td>\n      <td>5</td>\n      <td>0</td>\n      <td>10</td>\n      <td>2</td>\n      <td>0</td>\n      <td>Ostindiska Kompaniet</td>\n      <td>0</td>\n      <td>1991</td>\n      <td>Economic,Nautical</td>\n      <td>Dan Glimne</td>\n      <td>G&amp;RRR</td>\n      <td>4.75000</td>\n      <td>130</td>\n      <td>0.0</td>\n    </tr>\n    <tr>\n      <th>397</th>\n      <td>489</td>\n      <td>King Maya Pacal was born on March 26th 603 a.c...</td>\n      <td>//cf.geekdo-images.com/images/pic979203.jpg</td>\n      <td>2</td>\n      <td>0</td>\n      <td>12</td>\n      <td>2</td>\n      <td>0</td>\n      <td>Pacal</td>\n      <td>0</td>\n      <td>1999</td>\n      <td>Card Game</td>\n      <td>Günter Burkhardt</td>\n      <td>Klee</td>\n      <td>6.19779</td>\n      <td>86</td>\n      <td>0.0</td>\n    </tr>\n    <tr>\n      <th>437</th>\n      <td>549</td>\n      <td>Excerpted from a review by Ken Tidwell&amp;#10;&amp;#1...</td>\n      <td>//cf.geekdo-images.com/images/pic139628.jpg</td>\n      <td>12</td>\n      <td>0</td>\n      <td>12</td>\n      <td>2</td>\n      <td>0</td>\n      <td>Aerodrome</td>\n      <td>0</td>\n      <td>1994</td>\n      <td>Aviation / Flight,Miniatures,Wargame,World War I</td>\n      <td>Stanley Kubiak,Winston J. Kubiak</td>\n      <td>(Self-Published)</td>\n      <td>7.63393</td>\n      <td>84</td>\n      <td>0.0</td>\n    </tr>\n    <tr>\n      <th>...</th>\n      <td>...</td>\n      <td>...</td>\n      <td>...</td>\n      <td>...</td>\n      <td>...</td>\n      <td>...</td>\n      <td>...</td>\n      <td>...</td>\n      <td>...</td>\n      <td>...</td>\n      <td>...</td>\n      <td>...</td>\n      <td>...</td>\n      <td>...</td>\n      <td>...</td>\n      <td>...</td>\n      <td>...</td>\n    </tr>\n    <tr>\n      <th>10403</th>\n      <td>201406</td>\n      <td>From the Kickstarter blurb:&amp;#10;&amp;#10;The objec...</td>\n      <td>//cf.geekdo-images.com/images/pic3487555.png</td>\n      <td>5</td>\n      <td>0</td>\n      <td>0</td>\n      <td>2</td>\n      <td>0</td>\n      <td>OrganATTACK!</td>\n      <td>0</td>\n      <td>2016</td>\n      <td>NaN</td>\n      <td>Nick Seluk</td>\n      <td>(Self-Published)</td>\n      <td>6.65429</td>\n      <td>70</td>\n      <td>0.0</td>\n    </tr>\n    <tr>\n      <th>10429</th>\n      <td>203716</td>\n      <td>Description from the publisher:&amp;#10;&amp;#10;This ...</td>\n      <td>//cf.geekdo-images.com/images/pic3090966.jpg</td>\n      <td>6</td>\n      <td>0</td>\n      <td>0</td>\n      <td>2</td>\n      <td>0</td>\n      <td>Ta-Da!</td>\n      <td>0</td>\n      <td>2016</td>\n      <td>NaN</td>\n      <td>Stephen Avery</td>\n      <td>CMON Limited</td>\n      <td>6.35795</td>\n      <td>88</td>\n      <td>0.0</td>\n    </tr>\n    <tr>\n      <th>10439</th>\n      <td>204543</td>\n      <td>Description from the publisher:&amp;#10;&amp;#10;Get r...</td>\n      <td>//cf.geekdo-images.com/images/pic3280969.jpg</td>\n      <td>5</td>\n      <td>0</td>\n      <td>16</td>\n      <td>4</td>\n      <td>0</td>\n      <td>Speak Out</td>\n      <td>0</td>\n      <td>2016</td>\n      <td>Card Game,Party Game</td>\n      <td>Hasbro</td>\n      <td>Hasbro</td>\n      <td>5.29277</td>\n      <td>83</td>\n      <td>0.0</td>\n    </tr>\n    <tr>\n      <th>10448</th>\n      <td>204734</td>\n      <td>You don't want to be stuck with sticks in Stic...</td>\n      <td>//cf.geekdo-images.com/images/pic3107661.jpg</td>\n      <td>99</td>\n      <td>0</td>\n      <td>8</td>\n      <td>2</td>\n      <td>0</td>\n      <td>Stick Stack</td>\n      <td>0</td>\n      <td>2016</td>\n      <td>Action / Dexterity</td>\n      <td>Forrest-Pruzan Creative,Brad Ross,Jim Winslow</td>\n      <td>Broadway Toys LTD,Mandoo Games,Wonder Forge</td>\n      <td>7.19661</td>\n      <td>59</td>\n      <td>0.0</td>\n    </tr>\n    <tr>\n      <th>10451</th>\n      <td>204886</td>\n      <td>You are a jewel thief, and you've been invited...</td>\n      <td>//cf.geekdo-images.com/images/pic3109861.jpg</td>\n      <td>6</td>\n      <td>0</td>\n      <td>10</td>\n      <td>2</td>\n      <td>0</td>\n      <td>Suspicion</td>\n      <td>0</td>\n      <td>2016</td>\n      <td>Deduction</td>\n      <td>Forrest-Pruzan Creative</td>\n      <td>Wonder Forge</td>\n      <td>6.58150</td>\n      <td>135</td>\n      <td>0.0</td>\n    </tr>\n  </tbody>\n</table>\n<p>292 rows × 17 columns</p>\n</div>"
     },
     "execution_count": 8,
     "metadata": {},
     "output_type": "execute_result"
    }
   ],
   "source": [
    "# Create a new column 'average_playtime'\n",
    "dataset['average_playtime'] = (dataset['min_playtime'] + dataset['max_playtime']) / 2\n",
    "\n",
    "# Find rows where 'average_playtime' is 0\n",
    "zero_average_playtime_rows = dataset[dataset['average_playtime'] == 0]\n",
    "\n",
    "# Display the rows with 'average_playtime' equal to 0\n",
    "zero_average_playtime_rows"
   ],
   "id": "8d324061906f58e4"
  },
  {
   "cell_type": "code",
   "execution_count": 9,
   "metadata": {
    "ExecuteTime": {
     "end_time": "2023-11-19T09:34:37.796786Z",
     "start_time": "2023-11-19T09:34:37.742554Z"
    }
   },
   "outputs": [],
   "source": [
    "# Deleting 'max_playtime' and 'min_playtime' column\n",
    "dataset = dataset.drop(['max_playtime', 'min_playtime'], axis = 1)\n",
    "\n",
    "# Filter rows where 'average_playtime' is 0 and drop them\n",
    "dataset = dataset[dataset['average_playtime'] != 0]"
   ],
   "id": "11f2e9f9337b7845"
  },
  {
   "cell_type": "code",
   "execution_count": 10,
   "metadata": {
    "ExecuteTime": {
     "end_time": "2023-11-19T09:34:37.797915Z",
     "start_time": "2023-11-19T09:34:37.747544Z"
    }
   },
   "outputs": [],
   "source": [
    "# Replace null values in 'image' with 'image_not_found'\n",
    "dataset['image'].fillna('image_not_found', inplace=True)\n",
    "\n",
    "# Replace null values in 'category' with 'Other'\n",
    "dataset['category'].fillna('Other', inplace=True)"
   ],
   "id": "2a5d053f444e6dde"
  },
  {
   "cell_type": "code",
   "execution_count": 11,
   "metadata": {
    "ExecuteTime": {
     "end_time": "2023-11-19T09:34:37.798243Z",
     "start_time": "2023-11-19T09:34:37.754311Z"
    }
   },
   "outputs": [
    {
     "data": {
      "text/plain": "game_id             0\ndescription         0\nimage               0\nmax_players         0\nmin_age             0\nmin_players         0\nname                0\nplaying_time        0\nyear_published      0\ncategory            0\ndesigner            0\npublisher           0\naverage_rating      0\nusers_rated         0\naverage_playtime    0\ndtype: int64"
     },
     "execution_count": 11,
     "metadata": {},
     "output_type": "execute_result"
    }
   ],
   "source": [
    "dataset.isnull().sum()"
   ],
   "id": "ff138a3b08680167"
  },
  {
   "cell_type": "code",
   "execution_count": 12,
   "metadata": {
    "ExecuteTime": {
     "end_time": "2023-11-19T09:34:37.799847Z",
     "start_time": "2023-11-19T09:34:37.758961Z"
    }
   },
   "outputs": [
    {
     "data": {
      "text/plain": "   game_id                                        description  \\\n0        1  Die Macher is a game about seven sequential po...   \n1        2  Dragonmaster is a trick-taking card game based...   \n2        3  Part of the Knizia tile-laying trilogy, Samura...   \n3        4  When you see the triangular box and the luxuri...   \n4        5  In Acquire, each player strategically invests ...   \n\n                                          image  max_players  min_age  \\\n0   //cf.geekdo-images.com/images/pic159509.jpg            5       14   \n1   //cf.geekdo-images.com/images/pic184174.jpg            4       12   \n2  //cf.geekdo-images.com/images/pic3211873.jpg            4       10   \n3   //cf.geekdo-images.com/images/pic285299.jpg            4       12   \n4   //cf.geekdo-images.com/images/pic342163.jpg            6       12   \n\n   min_players            name  playing_time  year_published  \\\n0            3      Die Macher           240            1986   \n1            3    Dragonmaster            30            1981   \n2            2         Samurai            60            1998   \n3            2  Tal der Könige            60            1992   \n4            3         Acquire            90            1964   \n\n                         category               designer  \\\n0  Economic,Negotiation,Political     Karl-Heinz Schmiel   \n1               Card Game,Fantasy  G. W. \"Jerry\" D'Arcey   \n2      Abstract Strategy,Medieval          Reiner Knizia   \n3                         Ancient      Christian Beierer   \n4                        Economic            Sid Sackson   \n\n                                           publisher  average_rating  \\\n0  Hans im Glück Verlags-GmbH,Moskito Spiele,Vall...         7.66508   \n1                           E.S. Lowe,Milton Bradley         6.60815   \n2  999 Games,ABACUSSPIELE,Astrel Games,Ceilikan J...         7.44119   \n3                                             KOSMOS         6.60675   \n4  3M,Avalon Hill,Avalon Hill (Hasbro),Dujardin,G...         7.35830   \n\n   users_rated  average_playtime  \n0         4498             240.0  \n1          478              30.0  \n2        12019              45.0  \n3          314              60.0  \n4        15195              90.0  ",
      "text/html": "<div>\n<style scoped>\n    .dataframe tbody tr th:only-of-type {\n        vertical-align: middle;\n    }\n\n    .dataframe tbody tr th {\n        vertical-align: top;\n    }\n\n    .dataframe thead th {\n        text-align: right;\n    }\n</style>\n<table border=\"1\" class=\"dataframe\">\n  <thead>\n    <tr style=\"text-align: right;\">\n      <th></th>\n      <th>game_id</th>\n      <th>description</th>\n      <th>image</th>\n      <th>max_players</th>\n      <th>min_age</th>\n      <th>min_players</th>\n      <th>name</th>\n      <th>playing_time</th>\n      <th>year_published</th>\n      <th>category</th>\n      <th>designer</th>\n      <th>publisher</th>\n      <th>average_rating</th>\n      <th>users_rated</th>\n      <th>average_playtime</th>\n    </tr>\n  </thead>\n  <tbody>\n    <tr>\n      <th>0</th>\n      <td>1</td>\n      <td>Die Macher is a game about seven sequential po...</td>\n      <td>//cf.geekdo-images.com/images/pic159509.jpg</td>\n      <td>5</td>\n      <td>14</td>\n      <td>3</td>\n      <td>Die Macher</td>\n      <td>240</td>\n      <td>1986</td>\n      <td>Economic,Negotiation,Political</td>\n      <td>Karl-Heinz Schmiel</td>\n      <td>Hans im Glück Verlags-GmbH,Moskito Spiele,Vall...</td>\n      <td>7.66508</td>\n      <td>4498</td>\n      <td>240.0</td>\n    </tr>\n    <tr>\n      <th>1</th>\n      <td>2</td>\n      <td>Dragonmaster is a trick-taking card game based...</td>\n      <td>//cf.geekdo-images.com/images/pic184174.jpg</td>\n      <td>4</td>\n      <td>12</td>\n      <td>3</td>\n      <td>Dragonmaster</td>\n      <td>30</td>\n      <td>1981</td>\n      <td>Card Game,Fantasy</td>\n      <td>G. W. \"Jerry\" D'Arcey</td>\n      <td>E.S. Lowe,Milton Bradley</td>\n      <td>6.60815</td>\n      <td>478</td>\n      <td>30.0</td>\n    </tr>\n    <tr>\n      <th>2</th>\n      <td>3</td>\n      <td>Part of the Knizia tile-laying trilogy, Samura...</td>\n      <td>//cf.geekdo-images.com/images/pic3211873.jpg</td>\n      <td>4</td>\n      <td>10</td>\n      <td>2</td>\n      <td>Samurai</td>\n      <td>60</td>\n      <td>1998</td>\n      <td>Abstract Strategy,Medieval</td>\n      <td>Reiner Knizia</td>\n      <td>999 Games,ABACUSSPIELE,Astrel Games,Ceilikan J...</td>\n      <td>7.44119</td>\n      <td>12019</td>\n      <td>45.0</td>\n    </tr>\n    <tr>\n      <th>3</th>\n      <td>4</td>\n      <td>When you see the triangular box and the luxuri...</td>\n      <td>//cf.geekdo-images.com/images/pic285299.jpg</td>\n      <td>4</td>\n      <td>12</td>\n      <td>2</td>\n      <td>Tal der Könige</td>\n      <td>60</td>\n      <td>1992</td>\n      <td>Ancient</td>\n      <td>Christian Beierer</td>\n      <td>KOSMOS</td>\n      <td>6.60675</td>\n      <td>314</td>\n      <td>60.0</td>\n    </tr>\n    <tr>\n      <th>4</th>\n      <td>5</td>\n      <td>In Acquire, each player strategically invests ...</td>\n      <td>//cf.geekdo-images.com/images/pic342163.jpg</td>\n      <td>6</td>\n      <td>12</td>\n      <td>3</td>\n      <td>Acquire</td>\n      <td>90</td>\n      <td>1964</td>\n      <td>Economic</td>\n      <td>Sid Sackson</td>\n      <td>3M,Avalon Hill,Avalon Hill (Hasbro),Dujardin,G...</td>\n      <td>7.35830</td>\n      <td>15195</td>\n      <td>90.0</td>\n    </tr>\n  </tbody>\n</table>\n</div>"
     },
     "execution_count": 12,
     "metadata": {},
     "output_type": "execute_result"
    }
   ],
   "source": [
    "dataset.head()"
   ],
   "id": "23db8de269172e5f"
  },
  {
   "cell_type": "code",
   "execution_count": 13,
   "metadata": {
    "ExecuteTime": {
     "end_time": "2023-11-19T09:34:37.800448Z",
     "start_time": "2023-11-19T09:34:37.768096Z"
    }
   },
   "outputs": [
    {
     "data": {
      "text/plain": "      game_id                                        description  \\\n677       920  Ultimate Ouburst is a superset of the original...   \n1074     1618  (from the back of the box:)&#10;&#10;The Frenc...   \n1472     2356  Players in turn roll the 21 word cubes, set th...   \n1709     2860  Piecepack is to board games what a Standard De...   \n1835     3127  The Age of Empires Expandable Card Game is a C...   \n2295     4289  (from the game box:)&#10;&#10;88 is an intense...   \n2297     4292  &quot;Being a set of introductory rules for th...   \n2917     6540  Fear God &amp; Dread Nought completes the Admi...   \n3512     9211  Push a button, slide the lever, or turn a knob...   \n4413    18776  This is the third and final volume in Robert B...   \n5811    37301  The Decktet is a 45-card deck of cards in 6 su...   \n\n                                            image  max_players  min_age  \\\n677   //cf.geekdo-images.com/images/pic243836.jpg            0       18   \n1074   //cf.geekdo-images.com/images/pic33540.jpg            0        0   \n1472  //cf.geekdo-images.com/images/pic275151.jpg            0       10   \n1709  //cf.geekdo-images.com/images/pic119215.jpg            0        5   \n1835  //cf.geekdo-images.com/images/pic327321.jpg            0       12   \n2295  //cf.geekdo-images.com/images/pic412210.jpg            0       12   \n2297   //cf.geekdo-images.com/images/pic31648.jpg            0       12   \n2917   //cf.geekdo-images.com/images/pic37116.jpg            0       12   \n3512  //cf.geekdo-images.com/images/pic306859.jpg            0        5   \n4413   //cf.geekdo-images.com/images/pic84883.jpg            0       12   \n5811  //cf.geekdo-images.com/images/pic353574.jpg            0        0   \n\n      min_players                         name  playing_time  year_published  \\\n677             0            Ultimate Outburst            60            1999   \n1074            0        French Foreign Legion            60            1982   \n1472            0  Scrabble Sentence Cube Game            10            1971   \n1709            0                    Piecepack            10            2001   \n1835            0            Age of Empires II           120            2000   \n2295            0                           88            60            1980   \n2297            0      The Sword and the Flame            60            1979   \n2917            0    Fear God and Dread Nought           360            2001   \n3512            0           Screwball Scramble            20            1979   \n4413            0            The Mediterranean           480            2005   \n5811            0                      Decktet            30            2008   \n\n                                               category  \\\n677                                          Party Game   \n1074                                            Wargame   \n1472                                     Dice,Word Game   \n1709                                        Game System   \n1835  Card Game,Collectible Components,Fighting,Medi...   \n2295                               Wargame,World War II   \n2297                                 Miniatures,Wargame   \n2917            Miniatures,Nautical,Wargame,World War I   \n3512                          Action / Dexterity,Racing   \n4413                               Wargame,World War II   \n5811                 Card Game,Game System,Print & Play   \n\n                                               designer  \\\n677                                        Brian Hersch   \n1074    Larry V. Brom,Vernon Jay Stribling,E. R. Teuber   \n1472                                       (Uncredited)   \n1709                                         James Kyle   \n1835             Marcus D'Amelio,David May,Ted Triebull   \n2295                                       James M. Day   \n2297                                      Larry V. Brom   \n2917  Larry Bond,Chris Carlson,Michael Harris,Ed Ket...   \n3512                                       (Uncredited)   \n4413                                          Rob Beyma   \n5811                                       P. D. Magnus   \n\n                                              publisher  average_rating  \\\n677           Hasbro,Hersch and Company,Parker Brothers         6.17330   \n1074                                           Yaquinto         7.23214   \n1472                  danspil,Selchow & Righter,Top-Toy         4.62586   \n1709  Blue Panther,IcePack Games,Mesomorph Games,Pie...         7.09139   \n1835                                   Journeyman Press         5.88348   \n2295                                           Yaquinto         7.29423   \n2297  And That's The Way It Was...,Greenfield Hobby ...         7.42582   \n2917                                Clash of Arms Games         7.32759   \n3512                           Maplegrove,Pavilion,Tomy         5.48418   \n4413                                Clash of Arms Games         6.97059   \n5811  (Self-Published),(Web published),Blue Panther,...         7.52379   \n\n      users_rated  average_playtime  \n677           221              60.0  \n1074           56              60.0  \n1472          116              10.0  \n1709          138              10.0  \n1835          115             120.0  \n2295          104              60.0  \n2297           91              60.0  \n2917           87             360.0  \n3512          231              20.0  \n4413           51             480.0  \n5811          419              30.0  ",
      "text/html": "<div>\n<style scoped>\n    .dataframe tbody tr th:only-of-type {\n        vertical-align: middle;\n    }\n\n    .dataframe tbody tr th {\n        vertical-align: top;\n    }\n\n    .dataframe thead th {\n        text-align: right;\n    }\n</style>\n<table border=\"1\" class=\"dataframe\">\n  <thead>\n    <tr style=\"text-align: right;\">\n      <th></th>\n      <th>game_id</th>\n      <th>description</th>\n      <th>image</th>\n      <th>max_players</th>\n      <th>min_age</th>\n      <th>min_players</th>\n      <th>name</th>\n      <th>playing_time</th>\n      <th>year_published</th>\n      <th>category</th>\n      <th>designer</th>\n      <th>publisher</th>\n      <th>average_rating</th>\n      <th>users_rated</th>\n      <th>average_playtime</th>\n    </tr>\n  </thead>\n  <tbody>\n    <tr>\n      <th>677</th>\n      <td>920</td>\n      <td>Ultimate Ouburst is a superset of the original...</td>\n      <td>//cf.geekdo-images.com/images/pic243836.jpg</td>\n      <td>0</td>\n      <td>18</td>\n      <td>0</td>\n      <td>Ultimate Outburst</td>\n      <td>60</td>\n      <td>1999</td>\n      <td>Party Game</td>\n      <td>Brian Hersch</td>\n      <td>Hasbro,Hersch and Company,Parker Brothers</td>\n      <td>6.17330</td>\n      <td>221</td>\n      <td>60.0</td>\n    </tr>\n    <tr>\n      <th>1074</th>\n      <td>1618</td>\n      <td>(from the back of the box:)&amp;#10;&amp;#10;The Frenc...</td>\n      <td>//cf.geekdo-images.com/images/pic33540.jpg</td>\n      <td>0</td>\n      <td>0</td>\n      <td>0</td>\n      <td>French Foreign Legion</td>\n      <td>60</td>\n      <td>1982</td>\n      <td>Wargame</td>\n      <td>Larry V. Brom,Vernon Jay Stribling,E. R. Teuber</td>\n      <td>Yaquinto</td>\n      <td>7.23214</td>\n      <td>56</td>\n      <td>60.0</td>\n    </tr>\n    <tr>\n      <th>1472</th>\n      <td>2356</td>\n      <td>Players in turn roll the 21 word cubes, set th...</td>\n      <td>//cf.geekdo-images.com/images/pic275151.jpg</td>\n      <td>0</td>\n      <td>10</td>\n      <td>0</td>\n      <td>Scrabble Sentence Cube Game</td>\n      <td>10</td>\n      <td>1971</td>\n      <td>Dice,Word Game</td>\n      <td>(Uncredited)</td>\n      <td>danspil,Selchow &amp; Righter,Top-Toy</td>\n      <td>4.62586</td>\n      <td>116</td>\n      <td>10.0</td>\n    </tr>\n    <tr>\n      <th>1709</th>\n      <td>2860</td>\n      <td>Piecepack is to board games what a Standard De...</td>\n      <td>//cf.geekdo-images.com/images/pic119215.jpg</td>\n      <td>0</td>\n      <td>5</td>\n      <td>0</td>\n      <td>Piecepack</td>\n      <td>10</td>\n      <td>2001</td>\n      <td>Game System</td>\n      <td>James Kyle</td>\n      <td>Blue Panther,IcePack Games,Mesomorph Games,Pie...</td>\n      <td>7.09139</td>\n      <td>138</td>\n      <td>10.0</td>\n    </tr>\n    <tr>\n      <th>1835</th>\n      <td>3127</td>\n      <td>The Age of Empires Expandable Card Game is a C...</td>\n      <td>//cf.geekdo-images.com/images/pic327321.jpg</td>\n      <td>0</td>\n      <td>12</td>\n      <td>0</td>\n      <td>Age of Empires II</td>\n      <td>120</td>\n      <td>2000</td>\n      <td>Card Game,Collectible Components,Fighting,Medi...</td>\n      <td>Marcus D'Amelio,David May,Ted Triebull</td>\n      <td>Journeyman Press</td>\n      <td>5.88348</td>\n      <td>115</td>\n      <td>120.0</td>\n    </tr>\n    <tr>\n      <th>2295</th>\n      <td>4289</td>\n      <td>(from the game box:)&amp;#10;&amp;#10;88 is an intense...</td>\n      <td>//cf.geekdo-images.com/images/pic412210.jpg</td>\n      <td>0</td>\n      <td>12</td>\n      <td>0</td>\n      <td>88</td>\n      <td>60</td>\n      <td>1980</td>\n      <td>Wargame,World War II</td>\n      <td>James M. Day</td>\n      <td>Yaquinto</td>\n      <td>7.29423</td>\n      <td>104</td>\n      <td>60.0</td>\n    </tr>\n    <tr>\n      <th>2297</th>\n      <td>4292</td>\n      <td>&amp;quot;Being a set of introductory rules for th...</td>\n      <td>//cf.geekdo-images.com/images/pic31648.jpg</td>\n      <td>0</td>\n      <td>12</td>\n      <td>0</td>\n      <td>The Sword and the Flame</td>\n      <td>60</td>\n      <td>1979</td>\n      <td>Miniatures,Wargame</td>\n      <td>Larry V. Brom</td>\n      <td>And That's The Way It Was...,Greenfield Hobby ...</td>\n      <td>7.42582</td>\n      <td>91</td>\n      <td>60.0</td>\n    </tr>\n    <tr>\n      <th>2917</th>\n      <td>6540</td>\n      <td>Fear God &amp;amp; Dread Nought completes the Admi...</td>\n      <td>//cf.geekdo-images.com/images/pic37116.jpg</td>\n      <td>0</td>\n      <td>12</td>\n      <td>0</td>\n      <td>Fear God and Dread Nought</td>\n      <td>360</td>\n      <td>2001</td>\n      <td>Miniatures,Nautical,Wargame,World War I</td>\n      <td>Larry Bond,Chris Carlson,Michael Harris,Ed Ket...</td>\n      <td>Clash of Arms Games</td>\n      <td>7.32759</td>\n      <td>87</td>\n      <td>360.0</td>\n    </tr>\n    <tr>\n      <th>3512</th>\n      <td>9211</td>\n      <td>Push a button, slide the lever, or turn a knob...</td>\n      <td>//cf.geekdo-images.com/images/pic306859.jpg</td>\n      <td>0</td>\n      <td>5</td>\n      <td>0</td>\n      <td>Screwball Scramble</td>\n      <td>20</td>\n      <td>1979</td>\n      <td>Action / Dexterity,Racing</td>\n      <td>(Uncredited)</td>\n      <td>Maplegrove,Pavilion,Tomy</td>\n      <td>5.48418</td>\n      <td>231</td>\n      <td>20.0</td>\n    </tr>\n    <tr>\n      <th>4413</th>\n      <td>18776</td>\n      <td>This is the third and final volume in Robert B...</td>\n      <td>//cf.geekdo-images.com/images/pic84883.jpg</td>\n      <td>0</td>\n      <td>12</td>\n      <td>0</td>\n      <td>The Mediterranean</td>\n      <td>480</td>\n      <td>2005</td>\n      <td>Wargame,World War II</td>\n      <td>Rob Beyma</td>\n      <td>Clash of Arms Games</td>\n      <td>6.97059</td>\n      <td>51</td>\n      <td>480.0</td>\n    </tr>\n    <tr>\n      <th>5811</th>\n      <td>37301</td>\n      <td>The Decktet is a 45-card deck of cards in 6 su...</td>\n      <td>//cf.geekdo-images.com/images/pic353574.jpg</td>\n      <td>0</td>\n      <td>0</td>\n      <td>0</td>\n      <td>Decktet</td>\n      <td>30</td>\n      <td>2008</td>\n      <td>Card Game,Game System,Print &amp; Play</td>\n      <td>P. D. Magnus</td>\n      <td>(Self-Published),(Web published),Blue Panther,...</td>\n      <td>7.52379</td>\n      <td>419</td>\n      <td>30.0</td>\n    </tr>\n  </tbody>\n</table>\n</div>"
     },
     "execution_count": 13,
     "metadata": {},
     "output_type": "execute_result"
    }
   ],
   "source": [
    "# Find rows where both 'min_players' and 'max_players' are 0\n",
    "zero_players_rows = dataset[(dataset['min_players'] == 0) & (dataset['max_players'] == 0)]\n",
    "\n",
    "# Display the rows with min_players and max_players equal to 0\n",
    "zero_players_rows"
   ],
   "id": "5b4a4a17ff0d8498"
  },
  {
   "cell_type": "code",
   "execution_count": 14,
   "metadata": {
    "ExecuteTime": {
     "end_time": "2023-11-19T09:34:37.801701Z",
     "start_time": "2023-11-19T09:34:37.786768Z"
    }
   },
   "outputs": [
    {
     "name": "stdout",
     "output_type": "stream",
     "text": [
      "<class 'pandas.core.frame.DataFrame'>\n",
      "Index: 10240 entries, 0 to 10531\n",
      "Data columns (total 15 columns):\n",
      " #   Column            Non-Null Count  Dtype  \n",
      "---  ------            --------------  -----  \n",
      " 0   game_id           10240 non-null  int64  \n",
      " 1   description       10240 non-null  object \n",
      " 2   image             10240 non-null  object \n",
      " 3   max_players       10240 non-null  int64  \n",
      " 4   min_age           10240 non-null  int64  \n",
      " 5   min_players       10240 non-null  int64  \n",
      " 6   name              10240 non-null  object \n",
      " 7   playing_time      10240 non-null  int64  \n",
      " 8   year_published    10240 non-null  int64  \n",
      " 9   category          10240 non-null  object \n",
      " 10  designer          10240 non-null  object \n",
      " 11  publisher         10240 non-null  object \n",
      " 12  average_rating    10240 non-null  float64\n",
      " 13  users_rated       10240 non-null  int64  \n",
      " 14  average_playtime  10240 non-null  float64\n",
      "dtypes: float64(2), int64(7), object(6)\n",
      "memory usage: 1.2+ MB\n"
     ]
    }
   ],
   "source": [
    "dataset.info()"
   ],
   "id": "87db1a230aa42b62"
  },
  {
   "cell_type": "code",
   "execution_count": 15,
   "metadata": {
    "ExecuteTime": {
     "end_time": "2023-11-19T09:34:37.831236Z",
     "start_time": "2023-11-19T09:34:37.792822Z"
    }
   },
   "outputs": [],
   "source": [
    "# Drop the rows with min_players and max_players equal to 0\n",
    "dataset.drop(zero_players_rows.index, inplace=True)"
   ],
   "id": "3165cc4908c6ec17"
  },
  {
   "cell_type": "code",
   "execution_count": 16,
   "metadata": {
    "ExecuteTime": {
     "end_time": "2023-11-19T09:34:37.839708Z",
     "start_time": "2023-11-19T09:34:37.798503Z"
    }
   },
   "outputs": [],
   "source": [
    "# Set 'min_players' to 1 where 'min_players' is 0\n",
    "dataset.loc[dataset['min_players'] == 0, 'min_players'] = 1"
   ],
   "id": "23e87a498cc4b137"
  },
  {
   "cell_type": "code",
   "execution_count": 17,
   "metadata": {
    "ExecuteTime": {
     "end_time": "2023-11-19T09:34:37.854394Z",
     "start_time": "2023-11-19T09:34:37.805548Z"
    }
   },
   "outputs": [
    {
     "name": "stdout",
     "output_type": "stream",
     "text": [
      "<class 'pandas.core.frame.DataFrame'>\n",
      "Index: 10229 entries, 0 to 10531\n",
      "Data columns (total 15 columns):\n",
      " #   Column            Non-Null Count  Dtype  \n",
      "---  ------            --------------  -----  \n",
      " 0   game_id           10229 non-null  int64  \n",
      " 1   description       10229 non-null  object \n",
      " 2   image             10229 non-null  object \n",
      " 3   max_players       10229 non-null  int64  \n",
      " 4   min_age           10229 non-null  int64  \n",
      " 5   min_players       10229 non-null  int64  \n",
      " 6   name              10229 non-null  object \n",
      " 7   playing_time      10229 non-null  int64  \n",
      " 8   year_published    10229 non-null  int64  \n",
      " 9   category          10229 non-null  object \n",
      " 10  designer          10229 non-null  object \n",
      " 11  publisher         10229 non-null  object \n",
      " 12  average_rating    10229 non-null  float64\n",
      " 13  users_rated       10229 non-null  int64  \n",
      " 14  average_playtime  10229 non-null  float64\n",
      "dtypes: float64(2), int64(7), object(6)\n",
      "memory usage: 1.2+ MB\n"
     ]
    }
   ],
   "source": [
    "dataset.info()"
   ],
   "id": "5bc3cf042b30654f"
  },
  {
   "cell_type": "code",
   "execution_count": 18,
   "metadata": {
    "ExecuteTime": {
     "end_time": "2023-11-19T09:34:37.871108Z",
     "start_time": "2023-11-19T09:34:37.812500Z"
    }
   },
   "outputs": [
    {
     "data": {
      "text/plain": "      game_id                                        description  \\\n761      1111  Taboo is a party word game. Players take turns...   \n8509   144415  Harbor life, merchant ships, and boxes full of...   \n4734    22141  Designed by Bruno Cathala and Ludovic Maublanc...   \n8651   147154  Game description from the publisher:&#10;&#10;...   \n8574   145588  Oranges or lemons or both? Create a new planta...   \n...       ...                                                ...   \n466       590  One Thousand Milestones. On French roads there...   \n9322   163967  In Tiny Epic Galaxies each player controls a g...   \n178       217  In one of his sillier games, Karl-Heinz Schmie...   \n6159    41835  The Minotaur protects a Secret Temple inside a...   \n3475     9027  You are the head of a Mongolian family, intent...   \n\n                                             image  max_players  min_age  \\\n761   //cf.geekdo-images.com/images/pic1875289.jpg           10       12   \n8509  //cf.geekdo-images.com/images/pic1708341.jpg            4       12   \n4734  //cf.geekdo-images.com/images/pic1904123.jpg            5       10   \n8651  //cf.geekdo-images.com/images/pic1854836.jpg            2       14   \n8574  //cf.geekdo-images.com/images/pic1759308.jpg            5       10   \n...                                            ...          ...      ...   \n466    //cf.geekdo-images.com/images/pic154433.jpg            6        8   \n9322  //cf.geekdo-images.com/images/pic2349732.jpg            5       14   \n178    //cf.geekdo-images.com/images/pic599251.jpg            4       13   \n6159  //cf.geekdo-images.com/images/pic1821087.jpg            4        6   \n3475   //cf.geekdo-images.com/images/pic154034.jpg            5       10   \n\n      min_players                                     name  playing_time  \\\n761             4                                    Taboo            20   \n8509            2                                 Nauticus            90   \n4734            3  Cleopatra and the Society of Architects            60   \n8651            2                        Blue Moon Legends            30   \n8574            2                                   Citrus            60   \n...           ...                                      ...           ...   \n466             2                             Mille Bornes            45   \n9322            1                       Tiny Epic Galaxies            30   \n178             2                               A la carte            30   \n6159            2                               Minotaurus            25   \n3475            3                                    Oasis            60   \n\n      year_published                                     category  \\\n761             1989               Party Game,Real-time,Word Game   \n8509            2013             Economic,Nautical,Transportation   \n4734            2006                                      Ancient   \n8651            2014                            Card Game,Fantasy   \n8574            2013          Economic,Farming,Territory Building   \n...              ...                                          ...   \n466             1954                             Card Game,Racing   \n9322            2015       Dice,Science Fiction,Space Exploration   \n178             1989                Action / Dexterity,Party Game   \n6159            2009  Children's Game,Dice,Fantasy,Maze,Mythology   \n3475            2004                   Animals,Territory Building   \n\n                              designer  \\\n761                       Brian Hersch   \n8509  Michael Kiesling,Wolfgang Kramer   \n4734    Bruno Cathala,Ludovic Maublanc   \n8651                     Reiner Knizia   \n8574                 Jeffrey D. Allers   \n...                                ...   \n466                    Edmond Dujardin   \n9322                       Scott Almes   \n178                 Karl-Heinz Schmiel   \n6159                     Cephas Howard   \n3475      Alan R. Moon,Aaron Weissblum   \n\n                                              publisher  average_rating  \\\n761   Editions ATLAS,El Greco,Grow Jogos e Brinquedo...         6.28096   \n8509                                             KOSMOS         7.00920   \n4734  Days of Wonder,Edge Entertainment,KDS Distribu...         6.81077   \n8651  Edge Entertainment,Fantasy Flight Games,Galakt...         7.42086   \n8574                     dlp games,Tasty Minstrel Games         7.05616   \n...                                                 ...             ...   \n466   AS Manufacturas,Asmodee,Desyllas Games,Dujardi...         5.67488   \n9322  Gamelyn Games,(Web published),Devir,Giochix.it...         7.38625   \n178   Competo / Marektoy,Fantasy Flight Games,Giochi...         6.50098   \n6159                                               LEGO         5.62480   \n3475                            Schmidt Spiele,Überplay         6.73364   \n\n      users_rated  average_playtime  \n761          7302              20.0  \n8509          940              90.0  \n4734         5581              60.0  \n8651         1114              30.0  \n8574          600              60.0  \n...           ...               ...  \n466          5740              45.0  \n9322         5819              30.0  \n178          2629              30.0  \n6159          624              25.0  \n3475         2059              60.0  \n\n[2699 rows x 15 columns]",
      "text/html": "<div>\n<style scoped>\n    .dataframe tbody tr th:only-of-type {\n        vertical-align: middle;\n    }\n\n    .dataframe tbody tr th {\n        vertical-align: top;\n    }\n\n    .dataframe thead th {\n        text-align: right;\n    }\n</style>\n<table border=\"1\" class=\"dataframe\">\n  <thead>\n    <tr style=\"text-align: right;\">\n      <th></th>\n      <th>game_id</th>\n      <th>description</th>\n      <th>image</th>\n      <th>max_players</th>\n      <th>min_age</th>\n      <th>min_players</th>\n      <th>name</th>\n      <th>playing_time</th>\n      <th>year_published</th>\n      <th>category</th>\n      <th>designer</th>\n      <th>publisher</th>\n      <th>average_rating</th>\n      <th>users_rated</th>\n      <th>average_playtime</th>\n    </tr>\n  </thead>\n  <tbody>\n    <tr>\n      <th>761</th>\n      <td>1111</td>\n      <td>Taboo is a party word game. Players take turns...</td>\n      <td>//cf.geekdo-images.com/images/pic1875289.jpg</td>\n      <td>10</td>\n      <td>12</td>\n      <td>4</td>\n      <td>Taboo</td>\n      <td>20</td>\n      <td>1989</td>\n      <td>Party Game,Real-time,Word Game</td>\n      <td>Brian Hersch</td>\n      <td>Editions ATLAS,El Greco,Grow Jogos e Brinquedo...</td>\n      <td>6.28096</td>\n      <td>7302</td>\n      <td>20.0</td>\n    </tr>\n    <tr>\n      <th>8509</th>\n      <td>144415</td>\n      <td>Harbor life, merchant ships, and boxes full of...</td>\n      <td>//cf.geekdo-images.com/images/pic1708341.jpg</td>\n      <td>4</td>\n      <td>12</td>\n      <td>2</td>\n      <td>Nauticus</td>\n      <td>90</td>\n      <td>2013</td>\n      <td>Economic,Nautical,Transportation</td>\n      <td>Michael Kiesling,Wolfgang Kramer</td>\n      <td>KOSMOS</td>\n      <td>7.00920</td>\n      <td>940</td>\n      <td>90.0</td>\n    </tr>\n    <tr>\n      <th>4734</th>\n      <td>22141</td>\n      <td>Designed by Bruno Cathala and Ludovic Maublanc...</td>\n      <td>//cf.geekdo-images.com/images/pic1904123.jpg</td>\n      <td>5</td>\n      <td>10</td>\n      <td>3</td>\n      <td>Cleopatra and the Society of Architects</td>\n      <td>60</td>\n      <td>2006</td>\n      <td>Ancient</td>\n      <td>Bruno Cathala,Ludovic Maublanc</td>\n      <td>Days of Wonder,Edge Entertainment,KDS Distribu...</td>\n      <td>6.81077</td>\n      <td>5581</td>\n      <td>60.0</td>\n    </tr>\n    <tr>\n      <th>8651</th>\n      <td>147154</td>\n      <td>Game description from the publisher:&amp;#10;&amp;#10;...</td>\n      <td>//cf.geekdo-images.com/images/pic1854836.jpg</td>\n      <td>2</td>\n      <td>14</td>\n      <td>2</td>\n      <td>Blue Moon Legends</td>\n      <td>30</td>\n      <td>2014</td>\n      <td>Card Game,Fantasy</td>\n      <td>Reiner Knizia</td>\n      <td>Edge Entertainment,Fantasy Flight Games,Galakt...</td>\n      <td>7.42086</td>\n      <td>1114</td>\n      <td>30.0</td>\n    </tr>\n    <tr>\n      <th>8574</th>\n      <td>145588</td>\n      <td>Oranges or lemons or both? Create a new planta...</td>\n      <td>//cf.geekdo-images.com/images/pic1759308.jpg</td>\n      <td>5</td>\n      <td>10</td>\n      <td>2</td>\n      <td>Citrus</td>\n      <td>60</td>\n      <td>2013</td>\n      <td>Economic,Farming,Territory Building</td>\n      <td>Jeffrey D. Allers</td>\n      <td>dlp games,Tasty Minstrel Games</td>\n      <td>7.05616</td>\n      <td>600</td>\n      <td>60.0</td>\n    </tr>\n    <tr>\n      <th>...</th>\n      <td>...</td>\n      <td>...</td>\n      <td>...</td>\n      <td>...</td>\n      <td>...</td>\n      <td>...</td>\n      <td>...</td>\n      <td>...</td>\n      <td>...</td>\n      <td>...</td>\n      <td>...</td>\n      <td>...</td>\n      <td>...</td>\n      <td>...</td>\n      <td>...</td>\n    </tr>\n    <tr>\n      <th>466</th>\n      <td>590</td>\n      <td>One Thousand Milestones. On French roads there...</td>\n      <td>//cf.geekdo-images.com/images/pic154433.jpg</td>\n      <td>6</td>\n      <td>8</td>\n      <td>2</td>\n      <td>Mille Bornes</td>\n      <td>45</td>\n      <td>1954</td>\n      <td>Card Game,Racing</td>\n      <td>Edmond Dujardin</td>\n      <td>AS Manufacturas,Asmodee,Desyllas Games,Dujardi...</td>\n      <td>5.67488</td>\n      <td>5740</td>\n      <td>45.0</td>\n    </tr>\n    <tr>\n      <th>9322</th>\n      <td>163967</td>\n      <td>In Tiny Epic Galaxies each player controls a g...</td>\n      <td>//cf.geekdo-images.com/images/pic2349732.jpg</td>\n      <td>5</td>\n      <td>14</td>\n      <td>1</td>\n      <td>Tiny Epic Galaxies</td>\n      <td>30</td>\n      <td>2015</td>\n      <td>Dice,Science Fiction,Space Exploration</td>\n      <td>Scott Almes</td>\n      <td>Gamelyn Games,(Web published),Devir,Giochix.it...</td>\n      <td>7.38625</td>\n      <td>5819</td>\n      <td>30.0</td>\n    </tr>\n    <tr>\n      <th>178</th>\n      <td>217</td>\n      <td>In one of his sillier games, Karl-Heinz Schmie...</td>\n      <td>//cf.geekdo-images.com/images/pic599251.jpg</td>\n      <td>4</td>\n      <td>13</td>\n      <td>2</td>\n      <td>A la carte</td>\n      <td>30</td>\n      <td>1989</td>\n      <td>Action / Dexterity,Party Game</td>\n      <td>Karl-Heinz Schmiel</td>\n      <td>Competo / Marektoy,Fantasy Flight Games,Giochi...</td>\n      <td>6.50098</td>\n      <td>2629</td>\n      <td>30.0</td>\n    </tr>\n    <tr>\n      <th>6159</th>\n      <td>41835</td>\n      <td>The Minotaur protects a Secret Temple inside a...</td>\n      <td>//cf.geekdo-images.com/images/pic1821087.jpg</td>\n      <td>4</td>\n      <td>6</td>\n      <td>2</td>\n      <td>Minotaurus</td>\n      <td>25</td>\n      <td>2009</td>\n      <td>Children's Game,Dice,Fantasy,Maze,Mythology</td>\n      <td>Cephas Howard</td>\n      <td>LEGO</td>\n      <td>5.62480</td>\n      <td>624</td>\n      <td>25.0</td>\n    </tr>\n    <tr>\n      <th>3475</th>\n      <td>9027</td>\n      <td>You are the head of a Mongolian family, intent...</td>\n      <td>//cf.geekdo-images.com/images/pic154034.jpg</td>\n      <td>5</td>\n      <td>10</td>\n      <td>3</td>\n      <td>Oasis</td>\n      <td>60</td>\n      <td>2004</td>\n      <td>Animals,Territory Building</td>\n      <td>Alan R. Moon,Aaron Weissblum</td>\n      <td>Schmidt Spiele,Überplay</td>\n      <td>6.73364</td>\n      <td>2059</td>\n      <td>60.0</td>\n    </tr>\n  </tbody>\n</table>\n<p>2699 rows × 15 columns</p>\n</div>"
     },
     "execution_count": 18,
     "metadata": {},
     "output_type": "execute_result"
    }
   ],
   "source": [
    "# Filter rows where 'users_rated' is greater than or equal to 500\n",
    "high_users_rated_rows = dataset[dataset['users_rated'] >= 500]\n",
    "\n",
    "# Set sample_size to the number of rows in high_users_rated_rows\n",
    "sample_size = len(high_users_rated_rows)\n",
    "\n",
    "# Perform random sampling for the filtered rows\n",
    "sampled_high_users_rated_rows = high_users_rated_rows.sample(n=sample_size)\n",
    "\n",
    "# Display the sampled rows with 'users_rated' greater than or equal to 500\n",
    "sampled_high_users_rated_rows"
   ],
   "id": "e1fc2bb599091d2f"
  },
  {
   "cell_type": "code",
   "execution_count": 23,
   "outputs": [
    {
     "data": {
      "text/plain": "       average_rating average_rating_discretized  users_rated  \\\n0             7.66508                       High         4498   \n1             6.60815                       High          478   \n2             7.44119                       High        12019   \n3             6.60675                       High          314   \n4             7.35830                       High        15195   \n...               ...                        ...          ...   \n10527         8.35333                       High           75   \n10528         8.08780                       High           82   \n10529         7.28016                       High           63   \n10530         7.45871                       High          341   \n10531         7.52941                       High          119   \n\n      users_rated_discretized  \n0                    Very Low  \n1                    Very Low  \n2                    Very Low  \n3                    Very Low  \n4                         Low  \n...                       ...  \n10527                Very Low  \n10528                Very Low  \n10529                Very Low  \n10530                Very Low  \n10531                Very Low  \n\n[10229 rows x 4 columns]",
      "text/html": "<div>\n<style scoped>\n    .dataframe tbody tr th:only-of-type {\n        vertical-align: middle;\n    }\n\n    .dataframe tbody tr th {\n        vertical-align: top;\n    }\n\n    .dataframe thead th {\n        text-align: right;\n    }\n</style>\n<table border=\"1\" class=\"dataframe\">\n  <thead>\n    <tr style=\"text-align: right;\">\n      <th></th>\n      <th>average_rating</th>\n      <th>average_rating_discretized</th>\n      <th>users_rated</th>\n      <th>users_rated_discretized</th>\n    </tr>\n  </thead>\n  <tbody>\n    <tr>\n      <th>0</th>\n      <td>7.66508</td>\n      <td>High</td>\n      <td>4498</td>\n      <td>Very Low</td>\n    </tr>\n    <tr>\n      <th>1</th>\n      <td>6.60815</td>\n      <td>High</td>\n      <td>478</td>\n      <td>Very Low</td>\n    </tr>\n    <tr>\n      <th>2</th>\n      <td>7.44119</td>\n      <td>High</td>\n      <td>12019</td>\n      <td>Very Low</td>\n    </tr>\n    <tr>\n      <th>3</th>\n      <td>6.60675</td>\n      <td>High</td>\n      <td>314</td>\n      <td>Very Low</td>\n    </tr>\n    <tr>\n      <th>4</th>\n      <td>7.35830</td>\n      <td>High</td>\n      <td>15195</td>\n      <td>Low</td>\n    </tr>\n    <tr>\n      <th>...</th>\n      <td>...</td>\n      <td>...</td>\n      <td>...</td>\n      <td>...</td>\n    </tr>\n    <tr>\n      <th>10527</th>\n      <td>8.35333</td>\n      <td>High</td>\n      <td>75</td>\n      <td>Very Low</td>\n    </tr>\n    <tr>\n      <th>10528</th>\n      <td>8.08780</td>\n      <td>High</td>\n      <td>82</td>\n      <td>Very Low</td>\n    </tr>\n    <tr>\n      <th>10529</th>\n      <td>7.28016</td>\n      <td>High</td>\n      <td>63</td>\n      <td>Very Low</td>\n    </tr>\n    <tr>\n      <th>10530</th>\n      <td>7.45871</td>\n      <td>High</td>\n      <td>341</td>\n      <td>Very Low</td>\n    </tr>\n    <tr>\n      <th>10531</th>\n      <td>7.52941</td>\n      <td>High</td>\n      <td>119</td>\n      <td>Very Low</td>\n    </tr>\n  </tbody>\n</table>\n<p>10229 rows × 4 columns</p>\n</div>"
     },
     "execution_count": 23,
     "metadata": {},
     "output_type": "execute_result"
    }
   ],
   "source": [
    "# Discretize the 'average_rating' column\n",
    "dataset['average_rating_discretized'] = pd.cut(dataset['average_rating'], bins=3, labels=['Low', 'Medium', 'High'])\n",
    "\n",
    "# Discretize the 'average_rating' column\n",
    "dataset['users_rated_discretized'] = pd.cut(dataset['users_rated'], bins=5, labels=['Very Low', 'Low', 'Medium', 'High', 'Very High'])\n",
    "\n",
    "# Show the discretized columns\n",
    "dataset[['average_rating', 'average_rating_discretized','users_rated', 'users_rated_discretized']]"
   ],
   "metadata": {
    "collapsed": false,
    "ExecuteTime": {
     "end_time": "2023-11-19T09:43:47.967733Z",
     "start_time": "2023-11-19T09:43:47.948710Z"
    }
   },
   "id": "e6eedea9c5522e59"
  },
  {
   "cell_type": "code",
   "execution_count": 24,
   "outputs": [
    {
     "data": {
      "text/plain": "   game_id                                        description  \\\n0        1  Die Macher is a game about seven sequential po...   \n1        2  Dragonmaster is a trick-taking card game based...   \n2        3  Part of the Knizia tile-laying trilogy, Samura...   \n3        4  When you see the triangular box and the luxuri...   \n4        5  In Acquire, each player strategically invests ...   \n\n                                          image  max_players  min_age  \\\n0   //cf.geekdo-images.com/images/pic159509.jpg            5       14   \n1   //cf.geekdo-images.com/images/pic184174.jpg            4       12   \n2  //cf.geekdo-images.com/images/pic3211873.jpg            4       10   \n3   //cf.geekdo-images.com/images/pic285299.jpg            4       12   \n4   //cf.geekdo-images.com/images/pic342163.jpg            6       12   \n\n   min_players            name  playing_time  year_published  \\\n0            3      Die Macher           240            1986   \n1            3    Dragonmaster            30            1981   \n2            2         Samurai            60            1998   \n3            2  Tal der Könige            60            1992   \n4            3         Acquire            90            1964   \n\n                         category               designer  \\\n0  Economic,Negotiation,Political     Karl-Heinz Schmiel   \n1               Card Game,Fantasy  G. W. \"Jerry\" D'Arcey   \n2      Abstract Strategy,Medieval          Reiner Knizia   \n3                         Ancient      Christian Beierer   \n4                        Economic            Sid Sackson   \n\n                                           publisher  average_rating  \\\n0  Hans im Glück Verlags-GmbH,Moskito Spiele,Vall...         7.66508   \n1                           E.S. Lowe,Milton Bradley         6.60815   \n2  999 Games,ABACUSSPIELE,Astrel Games,Ceilikan J...         7.44119   \n3                                             KOSMOS         6.60675   \n4  3M,Avalon Hill,Avalon Hill (Hasbro),Dujardin,G...         7.35830   \n\n   users_rated  average_playtime average_rating_discretized  \\\n0         4498             240.0                       High   \n1          478              30.0                       High   \n2        12019              45.0                       High   \n3          314              60.0                       High   \n4        15195              90.0                       High   \n\n  users_rated_discretized  \n0                Very Low  \n1                Very Low  \n2                Very Low  \n3                Very Low  \n4                     Low  ",
      "text/html": "<div>\n<style scoped>\n    .dataframe tbody tr th:only-of-type {\n        vertical-align: middle;\n    }\n\n    .dataframe tbody tr th {\n        vertical-align: top;\n    }\n\n    .dataframe thead th {\n        text-align: right;\n    }\n</style>\n<table border=\"1\" class=\"dataframe\">\n  <thead>\n    <tr style=\"text-align: right;\">\n      <th></th>\n      <th>game_id</th>\n      <th>description</th>\n      <th>image</th>\n      <th>max_players</th>\n      <th>min_age</th>\n      <th>min_players</th>\n      <th>name</th>\n      <th>playing_time</th>\n      <th>year_published</th>\n      <th>category</th>\n      <th>designer</th>\n      <th>publisher</th>\n      <th>average_rating</th>\n      <th>users_rated</th>\n      <th>average_playtime</th>\n      <th>average_rating_discretized</th>\n      <th>users_rated_discretized</th>\n    </tr>\n  </thead>\n  <tbody>\n    <tr>\n      <th>0</th>\n      <td>1</td>\n      <td>Die Macher is a game about seven sequential po...</td>\n      <td>//cf.geekdo-images.com/images/pic159509.jpg</td>\n      <td>5</td>\n      <td>14</td>\n      <td>3</td>\n      <td>Die Macher</td>\n      <td>240</td>\n      <td>1986</td>\n      <td>Economic,Negotiation,Political</td>\n      <td>Karl-Heinz Schmiel</td>\n      <td>Hans im Glück Verlags-GmbH,Moskito Spiele,Vall...</td>\n      <td>7.66508</td>\n      <td>4498</td>\n      <td>240.0</td>\n      <td>High</td>\n      <td>Very Low</td>\n    </tr>\n    <tr>\n      <th>1</th>\n      <td>2</td>\n      <td>Dragonmaster is a trick-taking card game based...</td>\n      <td>//cf.geekdo-images.com/images/pic184174.jpg</td>\n      <td>4</td>\n      <td>12</td>\n      <td>3</td>\n      <td>Dragonmaster</td>\n      <td>30</td>\n      <td>1981</td>\n      <td>Card Game,Fantasy</td>\n      <td>G. W. \"Jerry\" D'Arcey</td>\n      <td>E.S. Lowe,Milton Bradley</td>\n      <td>6.60815</td>\n      <td>478</td>\n      <td>30.0</td>\n      <td>High</td>\n      <td>Very Low</td>\n    </tr>\n    <tr>\n      <th>2</th>\n      <td>3</td>\n      <td>Part of the Knizia tile-laying trilogy, Samura...</td>\n      <td>//cf.geekdo-images.com/images/pic3211873.jpg</td>\n      <td>4</td>\n      <td>10</td>\n      <td>2</td>\n      <td>Samurai</td>\n      <td>60</td>\n      <td>1998</td>\n      <td>Abstract Strategy,Medieval</td>\n      <td>Reiner Knizia</td>\n      <td>999 Games,ABACUSSPIELE,Astrel Games,Ceilikan J...</td>\n      <td>7.44119</td>\n      <td>12019</td>\n      <td>45.0</td>\n      <td>High</td>\n      <td>Very Low</td>\n    </tr>\n    <tr>\n      <th>3</th>\n      <td>4</td>\n      <td>When you see the triangular box and the luxuri...</td>\n      <td>//cf.geekdo-images.com/images/pic285299.jpg</td>\n      <td>4</td>\n      <td>12</td>\n      <td>2</td>\n      <td>Tal der Könige</td>\n      <td>60</td>\n      <td>1992</td>\n      <td>Ancient</td>\n      <td>Christian Beierer</td>\n      <td>KOSMOS</td>\n      <td>6.60675</td>\n      <td>314</td>\n      <td>60.0</td>\n      <td>High</td>\n      <td>Very Low</td>\n    </tr>\n    <tr>\n      <th>4</th>\n      <td>5</td>\n      <td>In Acquire, each player strategically invests ...</td>\n      <td>//cf.geekdo-images.com/images/pic342163.jpg</td>\n      <td>6</td>\n      <td>12</td>\n      <td>3</td>\n      <td>Acquire</td>\n      <td>90</td>\n      <td>1964</td>\n      <td>Economic</td>\n      <td>Sid Sackson</td>\n      <td>3M,Avalon Hill,Avalon Hill (Hasbro),Dujardin,G...</td>\n      <td>7.35830</td>\n      <td>15195</td>\n      <td>90.0</td>\n      <td>High</td>\n      <td>Low</td>\n    </tr>\n  </tbody>\n</table>\n</div>"
     },
     "execution_count": 24,
     "metadata": {},
     "output_type": "execute_result"
    }
   ],
   "source": [
    "dataset.head()"
   ],
   "metadata": {
    "collapsed": false,
    "ExecuteTime": {
     "end_time": "2023-11-19T09:44:34.622709Z",
     "start_time": "2023-11-19T09:44:34.611509Z"
    }
   },
   "id": "d3329390bc9709d1"
  },
  {
   "cell_type": "code",
   "execution_count": null,
   "outputs": [],
   "source": [],
   "metadata": {
    "collapsed": false
   },
   "id": "25cadeb8776d1903"
  }
 ],
 "metadata": {
  "kernelspec": {
   "display_name": "Python 3",
   "language": "python",
   "name": "python3"
  },
  "language_info": {
   "codemirror_mode": {
    "name": "ipython",
    "version": 3
   },
   "file_extension": ".py",
   "mimetype": "text/x-python",
   "name": "python",
   "nbconvert_exporter": "python",
   "pygments_lexer": "ipython3",
   "version": "3.11.5"
  }
 },
 "nbformat": 4,
 "nbformat_minor": 5
}
